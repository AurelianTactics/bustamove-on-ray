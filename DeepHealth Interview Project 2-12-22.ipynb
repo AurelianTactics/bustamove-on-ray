{
 "cells": [
  {
   "cell_type": "markdown",
   "metadata": {},
   "source": [
    "### Interview Project for DeepHealth\n",
    "\n",
    "Jim DiLorenzo"
   ]
  },
  {
   "cell_type": "markdown",
   "metadata": {},
   "source": [
    "#### Project Description\n",
    "The main goal of the problem is to test how you think through solving the problem. It should also naturally show your coding skills and how you communicate results. The problem should take less than 4 hours. I have provided the prompt below with the attached dataset. Please provide your answer as a Python Jupyter notebook by next Wednesday. Good luck!\n",
    "\n",
    " \n",
    "\n",
    "##### Prompt\n",
    "\n",
    "A screening mammogram normally consists of two views of each breast (CC and MLO views). I’ve attached a csv that contains example outputs from an ML model on each view separately. What I would like you to explore is combining the predictions from each view to come up with a breast level score. It’s an open-ended problem and we’re not looking for a final optimal solution, but more of the process of thinking through the problem. The metric you can use for evaluation is AUROC grouped by “study_num” and laterality (L/R)."
   ]
  },
  {
   "cell_type": "markdown",
   "metadata": {},
   "source": [
    "### Section 1: Exploratory Data Analysis"
   ]
  },
  {
   "cell_type": "code",
   "execution_count": 1,
   "metadata": {},
   "outputs": [],
   "source": [
    "# dependencies\n",
    "import numpy as np\n",
    "import pandas as pd\n",
    "import matplotlib.pyplot as plt\n",
    "%matplotlib inline\n",
    "import seaborn as sns\n",
    "import missingno as msno\n",
    "pd.options.display.max_columns = None\n",
    "\n",
    "# custom code file of convenient python EDA functions\n",
    "import eda_utils"
   ]
  },
  {
   "cell_type": "code",
   "execution_count": 2,
   "metadata": {},
   "outputs": [],
   "source": [
    "# read data\n",
    "df_all_input = pd.read_csv(\"example_outputs.csv\")"
   ]
  },
  {
   "cell_type": "code",
   "execution_count": 3,
   "metadata": {},
   "outputs": [
    {
     "data": {
      "text/html": [
       "<div>\n",
       "<style scoped>\n",
       "    .dataframe tbody tr th:only-of-type {\n",
       "        vertical-align: middle;\n",
       "    }\n",
       "\n",
       "    .dataframe tbody tr th {\n",
       "        vertical-align: top;\n",
       "    }\n",
       "\n",
       "    .dataframe thead th {\n",
       "        text-align: right;\n",
       "    }\n",
       "</style>\n",
       "<table border=\"1\" class=\"dataframe\">\n",
       "  <thead>\n",
       "    <tr style=\"text-align: right;\">\n",
       "      <th></th>\n",
       "      <th>Unnamed: 0</th>\n",
       "      <th>study_num</th>\n",
       "      <th>view</th>\n",
       "      <th>y</th>\n",
       "      <th>yhat</th>\n",
       "    </tr>\n",
       "  </thead>\n",
       "  <tbody>\n",
       "    <tr>\n",
       "      <th>0</th>\n",
       "      <td>0</td>\n",
       "      <td>8</td>\n",
       "      <td>LCC</td>\n",
       "      <td>0</td>\n",
       "      <td>0.000857</td>\n",
       "    </tr>\n",
       "    <tr>\n",
       "      <th>1</th>\n",
       "      <td>1</td>\n",
       "      <td>8</td>\n",
       "      <td>RMLO</td>\n",
       "      <td>1</td>\n",
       "      <td>0.542956</td>\n",
       "    </tr>\n",
       "    <tr>\n",
       "      <th>2</th>\n",
       "      <td>2</td>\n",
       "      <td>8</td>\n",
       "      <td>RCC</td>\n",
       "      <td>1</td>\n",
       "      <td>0.525933</td>\n",
       "    </tr>\n",
       "    <tr>\n",
       "      <th>3</th>\n",
       "      <td>3</td>\n",
       "      <td>10</td>\n",
       "      <td>RMLO</td>\n",
       "      <td>1</td>\n",
       "      <td>0.354297</td>\n",
       "    </tr>\n",
       "    <tr>\n",
       "      <th>4</th>\n",
       "      <td>4</td>\n",
       "      <td>10</td>\n",
       "      <td>LCC</td>\n",
       "      <td>0</td>\n",
       "      <td>0.000446</td>\n",
       "    </tr>\n",
       "  </tbody>\n",
       "</table>\n",
       "</div>"
      ],
      "text/plain": [
       "   Unnamed: 0  study_num  view  y      yhat\n",
       "0           0          8   LCC  0  0.000857\n",
       "1           1          8  RMLO  1  0.542956\n",
       "2           2          8   RCC  1  0.525933\n",
       "3           3         10  RMLO  1  0.354297\n",
       "4           4         10   LCC  0  0.000446"
      ]
     },
     "execution_count": 3,
     "metadata": {},
     "output_type": "execute_result"
    }
   ],
   "source": [
    "df_all = df_all_input.copy()\n",
    "df_all.head()"
   ]
  },
  {
   "cell_type": "code",
   "execution_count": 4,
   "metadata": {},
   "outputs": [
    {
     "data": {
      "text/html": [
       "<div>\n",
       "<style scoped>\n",
       "    .dataframe tbody tr th:only-of-type {\n",
       "        vertical-align: middle;\n",
       "    }\n",
       "\n",
       "    .dataframe tbody tr th {\n",
       "        vertical-align: top;\n",
       "    }\n",
       "\n",
       "    .dataframe thead th {\n",
       "        text-align: right;\n",
       "    }\n",
       "</style>\n",
       "<table border=\"1\" class=\"dataframe\">\n",
       "  <thead>\n",
       "    <tr style=\"text-align: right;\">\n",
       "      <th></th>\n",
       "      <th>Unnamed: 0</th>\n",
       "      <th>study_num</th>\n",
       "      <th>y</th>\n",
       "      <th>yhat</th>\n",
       "    </tr>\n",
       "  </thead>\n",
       "  <tbody>\n",
       "    <tr>\n",
       "      <th>count</th>\n",
       "      <td>5914.000000</td>\n",
       "      <td>5914.000000</td>\n",
       "      <td>5914.000000</td>\n",
       "      <td>5914.000000</td>\n",
       "    </tr>\n",
       "    <tr>\n",
       "      <th>mean</th>\n",
       "      <td>2956.500000</td>\n",
       "      <td>7248.516064</td>\n",
       "      <td>0.235374</td>\n",
       "      <td>0.153561</td>\n",
       "    </tr>\n",
       "    <tr>\n",
       "      <th>std</th>\n",
       "      <td>1707.369077</td>\n",
       "      <td>4264.464809</td>\n",
       "      <td>0.424268</td>\n",
       "      <td>0.229188</td>\n",
       "    </tr>\n",
       "    <tr>\n",
       "      <th>min</th>\n",
       "      <td>0.000000</td>\n",
       "      <td>8.000000</td>\n",
       "      <td>0.000000</td>\n",
       "      <td>0.000168</td>\n",
       "    </tr>\n",
       "    <tr>\n",
       "      <th>25%</th>\n",
       "      <td>1478.250000</td>\n",
       "      <td>3486.500000</td>\n",
       "      <td>0.000000</td>\n",
       "      <td>0.000964</td>\n",
       "    </tr>\n",
       "    <tr>\n",
       "      <th>50%</th>\n",
       "      <td>2956.500000</td>\n",
       "      <td>8385.000000</td>\n",
       "      <td>0.000000</td>\n",
       "      <td>0.002955</td>\n",
       "    </tr>\n",
       "    <tr>\n",
       "      <th>75%</th>\n",
       "      <td>4434.750000</td>\n",
       "      <td>11077.750000</td>\n",
       "      <td>0.000000</td>\n",
       "      <td>0.279555</td>\n",
       "    </tr>\n",
       "    <tr>\n",
       "      <th>max</th>\n",
       "      <td>5913.000000</td>\n",
       "      <td>13987.000000</td>\n",
       "      <td>1.000000</td>\n",
       "      <td>0.847084</td>\n",
       "    </tr>\n",
       "  </tbody>\n",
       "</table>\n",
       "</div>"
      ],
      "text/plain": [
       "        Unnamed: 0     study_num            y         yhat\n",
       "count  5914.000000   5914.000000  5914.000000  5914.000000\n",
       "mean   2956.500000   7248.516064     0.235374     0.153561\n",
       "std    1707.369077   4264.464809     0.424268     0.229188\n",
       "min       0.000000      8.000000     0.000000     0.000168\n",
       "25%    1478.250000   3486.500000     0.000000     0.000964\n",
       "50%    2956.500000   8385.000000     0.000000     0.002955\n",
       "75%    4434.750000  11077.750000     0.000000     0.279555\n",
       "max    5913.000000  13987.000000     1.000000     0.847084"
      ]
     },
     "execution_count": 4,
     "metadata": {},
     "output_type": "execute_result"
    }
   ],
   "source": [
    "df_all.describe()"
   ]
  },
  {
   "cell_type": "markdown",
   "metadata": {},
   "source": [
    "#### Notes\n",
    "* Given the problem description I know that view can be broken out as laterality (L/R) and view type (CC/MLO)\n",
    "* Since the data set size is small, I am not going to downscale the dtypes from int32/float64 to int32/float32"
   ]
  },
  {
   "cell_type": "code",
   "execution_count": 5,
   "metadata": {},
   "outputs": [
    {
     "data": {
      "text/plain": [
       "RCC     1571\n",
       "LCC     1554\n",
       "RMLO    1523\n",
       "LMLO    1266\n",
       "Name: view, dtype: int64"
      ]
     },
     "execution_count": 5,
     "metadata": {},
     "output_type": "execute_result"
    }
   ],
   "source": [
    "df_all['view'].value_counts()"
   ]
  },
  {
   "cell_type": "code",
   "execution_count": 6,
   "metadata": {},
   "outputs": [],
   "source": [
    "# not needed based on value counts but I like to be careful with strings\n",
    "df_all['view'] = df_all['view'].astype(str).str.upper()\n",
    "df_all['view'] = df_all['view'].astype(str).str.strip()"
   ]
  },
  {
   "cell_type": "code",
   "execution_count": 7,
   "metadata": {},
   "outputs": [
    {
     "name": "stdout",
     "output_type": "stream",
     "text": [
      "R    3094\n",
      "L    2820\n",
      "Name: laterality, dtype: int64\n",
      "CC     3125\n",
      "MLO    2789\n",
      "Name: view_type, dtype: int64\n"
     ]
    }
   ],
   "source": [
    "# making the new features\n",
    "df_all['laterality'] = df_all['view'].str[0]\n",
    "df_all['view_type'] = df_all['view'].str[1:]\n",
    "\n",
    "# checking that laterality and view type are the expected outputs (L/R) and (CC/MLO)\n",
    "print(df_all['laterality'].value_counts())\n",
    "print(df_all['view_type'].value_counts())"
   ]
  },
  {
   "cell_type": "code",
   "execution_count": 8,
   "metadata": {},
   "outputs": [],
   "source": [
    "# renaming the index column\n",
    "df_all.rename(columns={\"Unnamed: 0\": \"row_num\"},inplace=True)"
   ]
  },
  {
   "cell_type": "code",
   "execution_count": 9,
   "metadata": {},
   "outputs": [
    {
     "data": {
      "text/html": [
       "<div>\n",
       "<style scoped>\n",
       "    .dataframe tbody tr th:only-of-type {\n",
       "        vertical-align: middle;\n",
       "    }\n",
       "\n",
       "    .dataframe tbody tr th {\n",
       "        vertical-align: top;\n",
       "    }\n",
       "\n",
       "    .dataframe thead th {\n",
       "        text-align: right;\n",
       "    }\n",
       "</style>\n",
       "<table border=\"1\" class=\"dataframe\">\n",
       "  <thead>\n",
       "    <tr style=\"text-align: right;\">\n",
       "      <th></th>\n",
       "      <th>row_num</th>\n",
       "      <th>study_num</th>\n",
       "      <th>view</th>\n",
       "      <th>y</th>\n",
       "      <th>yhat</th>\n",
       "      <th>laterality</th>\n",
       "      <th>view_type</th>\n",
       "    </tr>\n",
       "  </thead>\n",
       "  <tbody>\n",
       "    <tr>\n",
       "      <th>0</th>\n",
       "      <td>0</td>\n",
       "      <td>8</td>\n",
       "      <td>LCC</td>\n",
       "      <td>0</td>\n",
       "      <td>0.000857</td>\n",
       "      <td>L</td>\n",
       "      <td>CC</td>\n",
       "    </tr>\n",
       "    <tr>\n",
       "      <th>1</th>\n",
       "      <td>1</td>\n",
       "      <td>8</td>\n",
       "      <td>RMLO</td>\n",
       "      <td>1</td>\n",
       "      <td>0.542956</td>\n",
       "      <td>R</td>\n",
       "      <td>MLO</td>\n",
       "    </tr>\n",
       "    <tr>\n",
       "      <th>2</th>\n",
       "      <td>2</td>\n",
       "      <td>8</td>\n",
       "      <td>RCC</td>\n",
       "      <td>1</td>\n",
       "      <td>0.525933</td>\n",
       "      <td>R</td>\n",
       "      <td>CC</td>\n",
       "    </tr>\n",
       "    <tr>\n",
       "      <th>3</th>\n",
       "      <td>3</td>\n",
       "      <td>10</td>\n",
       "      <td>RMLO</td>\n",
       "      <td>1</td>\n",
       "      <td>0.354297</td>\n",
       "      <td>R</td>\n",
       "      <td>MLO</td>\n",
       "    </tr>\n",
       "    <tr>\n",
       "      <th>4</th>\n",
       "      <td>4</td>\n",
       "      <td>10</td>\n",
       "      <td>LCC</td>\n",
       "      <td>0</td>\n",
       "      <td>0.000446</td>\n",
       "      <td>L</td>\n",
       "      <td>CC</td>\n",
       "    </tr>\n",
       "  </tbody>\n",
       "</table>\n",
       "</div>"
      ],
      "text/plain": [
       "   row_num  study_num  view  y      yhat laterality view_type\n",
       "0        0          8   LCC  0  0.000857          L        CC\n",
       "1        1          8  RMLO  1  0.542956          R       MLO\n",
       "2        2          8   RCC  1  0.525933          R        CC\n",
       "3        3         10  RMLO  1  0.354297          R       MLO\n",
       "4        4         10   LCC  0  0.000446          L        CC"
      ]
     },
     "execution_count": 9,
     "metadata": {},
     "output_type": "execute_result"
    }
   ],
   "source": [
    "df_all.head()"
   ]
  },
  {
   "cell_type": "code",
   "execution_count": 10,
   "metadata": {},
   "outputs": [
    {
     "data": {
      "text/html": [
       "<div>\n",
       "<style scoped>\n",
       "    .dataframe tbody tr th:only-of-type {\n",
       "        vertical-align: middle;\n",
       "    }\n",
       "\n",
       "    .dataframe tbody tr th {\n",
       "        vertical-align: top;\n",
       "    }\n",
       "\n",
       "    .dataframe thead th {\n",
       "        text-align: right;\n",
       "    }\n",
       "</style>\n",
       "<table border=\"1\" class=\"dataframe\">\n",
       "  <thead>\n",
       "    <tr style=\"text-align: right;\">\n",
       "      <th></th>\n",
       "      <th>study_num</th>\n",
       "      <th>laterality</th>\n",
       "      <th>y</th>\n",
       "    </tr>\n",
       "  </thead>\n",
       "  <tbody>\n",
       "    <tr>\n",
       "      <th>0</th>\n",
       "      <td>8</td>\n",
       "      <td>L</td>\n",
       "      <td>0.0</td>\n",
       "    </tr>\n",
       "    <tr>\n",
       "      <th>1</th>\n",
       "      <td>8</td>\n",
       "      <td>R</td>\n",
       "      <td>1.0</td>\n",
       "    </tr>\n",
       "    <tr>\n",
       "      <th>2</th>\n",
       "      <td>10</td>\n",
       "      <td>L</td>\n",
       "      <td>0.0</td>\n",
       "    </tr>\n",
       "    <tr>\n",
       "      <th>3</th>\n",
       "      <td>10</td>\n",
       "      <td>R</td>\n",
       "      <td>1.0</td>\n",
       "    </tr>\n",
       "    <tr>\n",
       "      <th>4</th>\n",
       "      <td>12</td>\n",
       "      <td>L</td>\n",
       "      <td>1.0</td>\n",
       "    </tr>\n",
       "  </tbody>\n",
       "</table>\n",
       "</div>"
      ],
      "text/plain": [
       "   study_num laterality    y\n",
       "0          8          L  0.0\n",
       "1          8          R  1.0\n",
       "2         10          L  0.0\n",
       "3         10          R  1.0\n",
       "4         12          L  1.0"
      ]
     },
     "execution_count": 10,
     "metadata": {},
     "output_type": "execute_result"
    }
   ],
   "source": [
    "# I'm curious if grouping by the study_num and L/R indicates something about the target\n",
    "# ie if all\n",
    "df_temp = df_all[['study_num', 'y', 'laterality']]\n",
    "df_temp = df_temp.groupby(['study_num','laterality']).mean()\n",
    "df_temp = df_temp.reset_index()\n",
    "df_temp.head()"
   ]
  },
  {
   "cell_type": "code",
   "execution_count": 11,
   "metadata": {},
   "outputs": [
    {
     "data": {
      "text/plain": [
       "0.0    2393\n",
       "1.0     709\n",
       "Name: y, dtype: int64"
      ]
     },
     "execution_count": 11,
     "metadata": {},
     "output_type": "execute_result"
    }
   ],
   "source": [
    "# I expect 0 and 1 if all R's for each study_num and all L's for each study_num have the same values\n",
    "df_temp['y'].value_counts()"
   ]
  },
  {
   "cell_type": "markdown",
   "metadata": {},
   "source": [
    "#### Notes:\n",
    "* I believe this means that in the data set, each study_num and laterality has the same target variable. Ie RCC and RMLO (and LCC and LMLO) will have the same target for each study_num.\n",
    "* This could indicate that each study_num is a specific patient.\n",
    "* I'm going to create some features based on number of R and L tests for each study_num. If each study_num is patient specific, the number of tests (and the fact that only one side is being tested) could indicate something."
   ]
  },
  {
   "cell_type": "code",
   "execution_count": 12,
   "metadata": {},
   "outputs": [
    {
     "data": {
      "text/html": [
       "<div>\n",
       "<style scoped>\n",
       "    .dataframe tbody tr th:only-of-type {\n",
       "        vertical-align: middle;\n",
       "    }\n",
       "\n",
       "    .dataframe tbody tr th {\n",
       "        vertical-align: top;\n",
       "    }\n",
       "\n",
       "    .dataframe thead th {\n",
       "        text-align: right;\n",
       "    }\n",
       "</style>\n",
       "<table border=\"1\" class=\"dataframe\">\n",
       "  <thead>\n",
       "    <tr style=\"text-align: right;\">\n",
       "      <th></th>\n",
       "      <th>row_num</th>\n",
       "      <th>study_num</th>\n",
       "      <th>view</th>\n",
       "      <th>y</th>\n",
       "      <th>yhat</th>\n",
       "      <th>laterality</th>\n",
       "      <th>view_type</th>\n",
       "      <th>lat_sn_count</th>\n",
       "    </tr>\n",
       "  </thead>\n",
       "  <tbody>\n",
       "    <tr>\n",
       "      <th>0</th>\n",
       "      <td>0</td>\n",
       "      <td>8</td>\n",
       "      <td>LCC</td>\n",
       "      <td>0</td>\n",
       "      <td>0.000857</td>\n",
       "      <td>L</td>\n",
       "      <td>CC</td>\n",
       "      <td>1</td>\n",
       "    </tr>\n",
       "    <tr>\n",
       "      <th>1</th>\n",
       "      <td>1</td>\n",
       "      <td>8</td>\n",
       "      <td>RMLO</td>\n",
       "      <td>1</td>\n",
       "      <td>0.542956</td>\n",
       "      <td>R</td>\n",
       "      <td>MLO</td>\n",
       "      <td>2</td>\n",
       "    </tr>\n",
       "    <tr>\n",
       "      <th>2</th>\n",
       "      <td>2</td>\n",
       "      <td>8</td>\n",
       "      <td>RCC</td>\n",
       "      <td>1</td>\n",
       "      <td>0.525933</td>\n",
       "      <td>R</td>\n",
       "      <td>CC</td>\n",
       "      <td>2</td>\n",
       "    </tr>\n",
       "    <tr>\n",
       "      <th>3</th>\n",
       "      <td>3</td>\n",
       "      <td>10</td>\n",
       "      <td>RMLO</td>\n",
       "      <td>1</td>\n",
       "      <td>0.354297</td>\n",
       "      <td>R</td>\n",
       "      <td>MLO</td>\n",
       "      <td>2</td>\n",
       "    </tr>\n",
       "    <tr>\n",
       "      <th>4</th>\n",
       "      <td>5</td>\n",
       "      <td>10</td>\n",
       "      <td>RCC</td>\n",
       "      <td>1</td>\n",
       "      <td>0.070244</td>\n",
       "      <td>R</td>\n",
       "      <td>CC</td>\n",
       "      <td>2</td>\n",
       "    </tr>\n",
       "  </tbody>\n",
       "</table>\n",
       "</div>"
      ],
      "text/plain": [
       "   row_num  study_num  view  y      yhat laterality view_type  lat_sn_count\n",
       "0        0          8   LCC  0  0.000857          L        CC             1\n",
       "1        1          8  RMLO  1  0.542956          R       MLO             2\n",
       "2        2          8   RCC  1  0.525933          R        CC             2\n",
       "3        3         10  RMLO  1  0.354297          R       MLO             2\n",
       "4        5         10   RCC  1  0.070244          R        CC             2"
      ]
     },
     "execution_count": 12,
     "metadata": {},
     "output_type": "execute_result"
    }
   ],
   "source": [
    "# creating features for count of number of tests done by study level by laterality\n",
    "df_all_backup = df_all.copy() # storing here temporarily since I'm not the best with groupby and merges\n",
    "df_temp = df_all.groupby(['study_num','laterality'])['row_num'].count().reset_index(name=\"lat_sn_count\")\n",
    "\n",
    "# merge counts in\n",
    "df_all_backup = df_all_backup.merge(df_temp, how=\"inner\",on=['study_num','laterality'])\n",
    "df_all_backup.head()"
   ]
  },
  {
   "cell_type": "code",
   "execution_count": 13,
   "metadata": {},
   "outputs": [
    {
     "data": {
      "text/html": [
       "<div>\n",
       "<style scoped>\n",
       "    .dataframe tbody tr th:only-of-type {\n",
       "        vertical-align: middle;\n",
       "    }\n",
       "\n",
       "    .dataframe tbody tr th {\n",
       "        vertical-align: top;\n",
       "    }\n",
       "\n",
       "    .dataframe thead th {\n",
       "        text-align: right;\n",
       "    }\n",
       "</style>\n",
       "<table border=\"1\" class=\"dataframe\">\n",
       "  <thead>\n",
       "    <tr style=\"text-align: right;\">\n",
       "      <th></th>\n",
       "      <th>row_num</th>\n",
       "      <th>study_num</th>\n",
       "      <th>view</th>\n",
       "      <th>y</th>\n",
       "      <th>yhat</th>\n",
       "      <th>laterality</th>\n",
       "      <th>view_type</th>\n",
       "      <th>lat_sn_count</th>\n",
       "      <th>view_type_sn_count</th>\n",
       "    </tr>\n",
       "  </thead>\n",
       "  <tbody>\n",
       "    <tr>\n",
       "      <th>0</th>\n",
       "      <td>0</td>\n",
       "      <td>8</td>\n",
       "      <td>LCC</td>\n",
       "      <td>0</td>\n",
       "      <td>0.000857</td>\n",
       "      <td>L</td>\n",
       "      <td>CC</td>\n",
       "      <td>1</td>\n",
       "      <td>2</td>\n",
       "    </tr>\n",
       "    <tr>\n",
       "      <th>1</th>\n",
       "      <td>2</td>\n",
       "      <td>8</td>\n",
       "      <td>RCC</td>\n",
       "      <td>1</td>\n",
       "      <td>0.525933</td>\n",
       "      <td>R</td>\n",
       "      <td>CC</td>\n",
       "      <td>2</td>\n",
       "      <td>2</td>\n",
       "    </tr>\n",
       "    <tr>\n",
       "      <th>2</th>\n",
       "      <td>1</td>\n",
       "      <td>8</td>\n",
       "      <td>RMLO</td>\n",
       "      <td>1</td>\n",
       "      <td>0.542956</td>\n",
       "      <td>R</td>\n",
       "      <td>MLO</td>\n",
       "      <td>2</td>\n",
       "      <td>1</td>\n",
       "    </tr>\n",
       "    <tr>\n",
       "      <th>3</th>\n",
       "      <td>3</td>\n",
       "      <td>10</td>\n",
       "      <td>RMLO</td>\n",
       "      <td>1</td>\n",
       "      <td>0.354297</td>\n",
       "      <td>R</td>\n",
       "      <td>MLO</td>\n",
       "      <td>2</td>\n",
       "      <td>1</td>\n",
       "    </tr>\n",
       "    <tr>\n",
       "      <th>4</th>\n",
       "      <td>5</td>\n",
       "      <td>10</td>\n",
       "      <td>RCC</td>\n",
       "      <td>1</td>\n",
       "      <td>0.070244</td>\n",
       "      <td>R</td>\n",
       "      <td>CC</td>\n",
       "      <td>2</td>\n",
       "      <td>2</td>\n",
       "    </tr>\n",
       "  </tbody>\n",
       "</table>\n",
       "</div>"
      ],
      "text/plain": [
       "   row_num  study_num  view  y      yhat laterality view_type  lat_sn_count  \\\n",
       "0        0          8   LCC  0  0.000857          L        CC             1   \n",
       "1        2          8   RCC  1  0.525933          R        CC             2   \n",
       "2        1          8  RMLO  1  0.542956          R       MLO             2   \n",
       "3        3         10  RMLO  1  0.354297          R       MLO             2   \n",
       "4        5         10   RCC  1  0.070244          R        CC             2   \n",
       "\n",
       "   view_type_sn_count  \n",
       "0                   2  \n",
       "1                   2  \n",
       "2                   1  \n",
       "3                   1  \n",
       "4                   2  "
      ]
     },
     "execution_count": 13,
     "metadata": {},
     "output_type": "execute_result"
    }
   ],
   "source": [
    "# creating features for count of types of tests by study_num\n",
    "df_temp = df_all.groupby(['study_num','view_type'])['row_num'].count().reset_index(name=\"view_type_sn_count\")\n",
    "\n",
    "# merge counts in\n",
    "df_all_backup = df_all_backup.merge(df_temp, how=\"inner\",on=['study_num','view_type'])\n",
    "df_all_backup.head()"
   ]
  },
  {
   "cell_type": "code",
   "execution_count": 14,
   "metadata": {},
   "outputs": [
    {
     "data": {
      "text/html": [
       "<div>\n",
       "<style scoped>\n",
       "    .dataframe tbody tr th:only-of-type {\n",
       "        vertical-align: middle;\n",
       "    }\n",
       "\n",
       "    .dataframe tbody tr th {\n",
       "        vertical-align: top;\n",
       "    }\n",
       "\n",
       "    .dataframe thead th {\n",
       "        text-align: right;\n",
       "    }\n",
       "</style>\n",
       "<table border=\"1\" class=\"dataframe\">\n",
       "  <thead>\n",
       "    <tr style=\"text-align: right;\">\n",
       "      <th></th>\n",
       "      <th>row_num</th>\n",
       "      <th>study_num</th>\n",
       "      <th>view</th>\n",
       "      <th>y</th>\n",
       "      <th>yhat</th>\n",
       "      <th>laterality</th>\n",
       "      <th>view_type</th>\n",
       "      <th>lat_sn_count</th>\n",
       "      <th>view_type_sn_count</th>\n",
       "    </tr>\n",
       "  </thead>\n",
       "  <tbody>\n",
       "    <tr>\n",
       "      <th>0</th>\n",
       "      <td>0</td>\n",
       "      <td>8</td>\n",
       "      <td>LCC</td>\n",
       "      <td>0</td>\n",
       "      <td>0.000857</td>\n",
       "      <td>L</td>\n",
       "      <td>CC</td>\n",
       "      <td>1</td>\n",
       "      <td>2</td>\n",
       "    </tr>\n",
       "    <tr>\n",
       "      <th>1</th>\n",
       "      <td>2</td>\n",
       "      <td>8</td>\n",
       "      <td>RCC</td>\n",
       "      <td>1</td>\n",
       "      <td>0.525933</td>\n",
       "      <td>R</td>\n",
       "      <td>CC</td>\n",
       "      <td>2</td>\n",
       "      <td>2</td>\n",
       "    </tr>\n",
       "    <tr>\n",
       "      <th>2</th>\n",
       "      <td>1</td>\n",
       "      <td>8</td>\n",
       "      <td>RMLO</td>\n",
       "      <td>1</td>\n",
       "      <td>0.542956</td>\n",
       "      <td>R</td>\n",
       "      <td>MLO</td>\n",
       "      <td>2</td>\n",
       "      <td>1</td>\n",
       "    </tr>\n",
       "    <tr>\n",
       "      <th>3</th>\n",
       "      <td>3</td>\n",
       "      <td>10</td>\n",
       "      <td>RMLO</td>\n",
       "      <td>1</td>\n",
       "      <td>0.354297</td>\n",
       "      <td>R</td>\n",
       "      <td>MLO</td>\n",
       "      <td>2</td>\n",
       "      <td>1</td>\n",
       "    </tr>\n",
       "    <tr>\n",
       "      <th>4</th>\n",
       "      <td>5</td>\n",
       "      <td>10</td>\n",
       "      <td>RCC</td>\n",
       "      <td>1</td>\n",
       "      <td>0.070244</td>\n",
       "      <td>R</td>\n",
       "      <td>CC</td>\n",
       "      <td>2</td>\n",
       "      <td>2</td>\n",
       "    </tr>\n",
       "  </tbody>\n",
       "</table>\n",
       "</div>"
      ],
      "text/plain": [
       "   row_num  study_num  view  y      yhat laterality view_type  lat_sn_count  \\\n",
       "0        0          8   LCC  0  0.000857          L        CC             1   \n",
       "1        2          8   RCC  1  0.525933          R        CC             2   \n",
       "2        1          8  RMLO  1  0.542956          R       MLO             2   \n",
       "3        3         10  RMLO  1  0.354297          R       MLO             2   \n",
       "4        5         10   RCC  1  0.070244          R        CC             2   \n",
       "\n",
       "   view_type_sn_count  \n",
       "0                   2  \n",
       "1                   2  \n",
       "2                   1  \n",
       "3                   1  \n",
       "4                   2  "
      ]
     },
     "execution_count": 14,
     "metadata": {},
     "output_type": "execute_result"
    }
   ],
   "source": [
    "# going back to df_all\n",
    "df_all = df_all_backup.copy()\n",
    "df_all.head()"
   ]
  },
  {
   "cell_type": "code",
   "execution_count": 15,
   "metadata": {},
   "outputs": [
    {
     "name": "stdout",
     "output_type": "stream",
     "text": [
      "Number of rows: 5914\n",
      "Number of columns: 9\n",
      "Number of numeric columns: 6\n",
      "Number of columns with a NA value: 0\n"
     ]
    }
   ],
   "source": [
    "# starting my custom EDA\n",
    "eda_utils.describe_data_frame(df_all,-1)"
   ]
  },
  {
   "cell_type": "markdown",
   "metadata": {},
   "source": [
    "#### Notes\n",
    "* small data set (both number of rows and columns)\n",
    "* no NA values"
   ]
  },
  {
   "cell_type": "markdown",
   "metadata": {},
   "source": [
    "#### Custom EDA\n",
    "Over the years I have made custom file called eda_utils.py which has many of the EDA techniques I often use on problems. I call some basic functions through that script. Much of the output from those functions can be ignored or skimmed through quickly. The script has some safety checks that I like to rely on and some basic EDA."
   ]
  },
  {
   "cell_type": "code",
   "execution_count": 16,
   "metadata": {},
   "outputs": [
    {
     "data": {
      "image/png": "[encoded data removed]",
      "text/plain": [
       "<Figure size 1152x864 with 2 Axes>"
      ]
     },
     "metadata": {
      "needs_background": "light"
     },
     "output_type": "display_data"
    }
   ],
   "source": [
    "# display correlation between features\n",
    "eda_utils.display_corr(df_all)"
   ]
  },
  {
   "cell_type": "markdown",
   "metadata": {},
   "source": [
    "#### Notes\n",
    "* Data given to us in study_num from smallest to largest\n",
    "* As hoped for yhat correlates with y but not at a strong level"
   ]
  },
  {
   "cell_type": "code",
   "execution_count": 17,
   "metadata": {},
   "outputs": [
    {
     "name": "stdout",
     "output_type": "stream",
     "text": [
      "Target Column Counts and Distribution: \n",
      "0    4522\n",
      "1    1392\n",
      "Name: y, dtype: int64\n",
      "0    76.5\n",
      "1    23.5\n",
      "Name: y, dtype: float64\n",
      "\n",
      "row_num -- Feature \n",
      "count    5914.0\n",
      "mean     2956.0\n",
      "std      1707.0\n",
      "min         0.0\n",
      "25%      1478.0\n",
      "50%      2956.0\n",
      "75%      4435.0\n",
      "max      5913.0\n",
      "Name: row_num, dtype: float64\n"
     ]
    },
    {
     "data": {
      "image/png": "[encoded data removed]",
      "text/plain": [
       "<Figure size 432x288 with 1 Axes>"
      ]
     },
     "metadata": {
      "needs_background": "light"
     },
     "output_type": "display_data"
    },
    {
     "name": "stdout",
     "output_type": "stream",
     "text": [
      " | is numeric | 5914 unique values \n",
      "\n",
      "study_num -- Feature \n",
      "count     5914.0\n",
      "mean      7249.0\n",
      "std       4264.0\n",
      "min          8.0\n",
      "25%       3486.0\n",
      "50%       8385.0\n",
      "75%      11078.0\n",
      "max      13987.0\n",
      "Name: study_num, dtype: float64\n"
     ]
    },
    {
     "data": {
      "image/png": "[encoded data removed]",
      "text/plain": [
       "<Figure size 432x288 with 1 Axes>"
      ]
     },
     "metadata": {
      "needs_background": "light"
     },
     "output_type": "display_data"
    },
    {
     "name": "stdout",
     "output_type": "stream",
     "text": [
      " | is numeric | 1678 unique values \n",
      "\n",
      "view -- Feature \n",
      " | is not numeric | 4 unique values  | consider one-hot?\n",
      "target percentages:  0    76.5\n",
      "1    23.5\n",
      "Name: y, dtype: float64\n",
      "        view\n",
      "view y      \n",
      "LCC  0  76.3\n",
      "     1  23.7\n",
      "LMLO 0  75.4\n",
      "     1  24.6\n",
      "RCC  0  77.3\n",
      "     1  22.7\n",
      "RMLO 0  76.6\n",
      "     1  23.4\n"
     ]
    },
    {
     "data": {
      "image/png": "[encoded data removed]",
      "text/plain": [
       "<Figure size 576x432 with 1 Axes>"
      ]
     },
     "metadata": {
      "needs_background": "light"
     },
     "output_type": "display_data"
    },
    {
     "name": "stdout",
     "output_type": "stream",
     "text": [
      "\n",
      "y -- Feature \n",
      "count    5914.00\n",
      "mean        0.24\n",
      "std         0.42\n",
      "min         0.00\n",
      "25%         0.00\n",
      "50%         0.00\n",
      "75%         0.00\n",
      "max         1.00\n",
      "Name: y, dtype: float64\n"
     ]
    },
    {
     "data": {
      "image/png": "[encoded data removed]",
      "text/plain": [
       "<Figure size 432x288 with 1 Axes>"
      ]
     },
     "metadata": {
      "needs_background": "light"
     },
     "output_type": "display_data"
    },
    {
     "name": "stdout",
     "output_type": "stream",
     "text": [
      " | is numeric | 2 unique values  | consider one-hot? (ordinal?) \n",
      "target percentages:  0    76.5\n",
      "1    23.5\n",
      "Name: y, dtype: float64\n",
      "         y\n",
      "y y       \n",
      "0 0  100.0\n",
      "1 1  100.0\n"
     ]
    },
    {
     "data": {
      "image/png": "[encoded data removed]",
      "text/plain": [
       "<Figure size 576x432 with 1 Axes>"
      ]
     },
     "metadata": {
      "needs_background": "light"
     },
     "output_type": "display_data"
    },
    {
     "name": "stdout",
     "output_type": "stream",
     "text": [
      "\n",
      "yhat -- Feature \n",
      "count    5914.00\n",
      "mean        0.15\n",
      "std         0.23\n",
      "min         0.00\n",
      "25%         0.00\n",
      "50%         0.00\n",
      "75%         0.28\n",
      "max         0.85\n",
      "Name: yhat, dtype: float64\n"
     ]
    },
    {
     "data": {
      "image/png": "[encoded data removed]",
      "text/plain": [
       "<Figure size 432x288 with 1 Axes>"
      ]
     },
     "metadata": {
      "needs_background": "light"
     },
     "output_type": "display_data"
    },
    {
     "name": "stdout",
     "output_type": "stream",
     "text": [
      " | is numeric | 5910 unique values \n",
      "\n",
      "laterality -- Feature \n",
      " | is not numeric | 2 unique values  | consider one-hot?\n",
      "target percentages:  0    76.5\n",
      "1    23.5\n",
      "Name: y, dtype: float64\n",
      "              laterality\n",
      "laterality y            \n",
      "L          0        75.9\n",
      "           1        24.1\n",
      "R          0        77.0\n",
      "           1        23.0\n"
     ]
    },
    {
     "data": {
      "image/png": "[encoded data removed]",
      "text/plain": [
       "<Figure size 576x432 with 1 Axes>"
      ]
     },
     "metadata": {
      "needs_background": "light"
     },
     "output_type": "display_data"
    },
    {
     "name": "stdout",
     "output_type": "stream",
     "text": [
      "\n",
      "view_type -- Feature \n",
      " | is not numeric | 2 unique values  | consider one-hot?\n",
      "target percentages:  0    76.5\n",
      "1    23.5\n",
      "Name: y, dtype: float64\n",
      "             view_type\n",
      "view_type y           \n",
      "CC        0       76.8\n",
      "          1       23.2\n",
      "MLO       0       76.0\n",
      "          1       24.0\n"
     ]
    },
    {
     "data": {
      "image/png": "[encoded data removed]",
      "text/plain": [
       "<Figure size 576x432 with 1 Axes>"
      ]
     },
     "metadata": {
      "needs_background": "light"
     },
     "output_type": "display_data"
    },
    {
     "name": "stdout",
     "output_type": "stream",
     "text": [
      "\n",
      "lat_sn_count -- Feature \n",
      "count    5914.00\n",
      "mean        1.98\n",
      "std         0.35\n",
      "min         1.00\n",
      "25%         2.00\n",
      "50%         2.00\n",
      "75%         2.00\n",
      "max         5.00\n",
      "Name: lat_sn_count, dtype: float64\n"
     ]
    },
    {
     "data": {
      "image/png": "[encoded data removed]",
      "text/plain": [
       "<Figure size 432x288 with 1 Axes>"
      ]
     },
     "metadata": {
      "needs_background": "light"
     },
     "output_type": "display_data"
    },
    {
     "name": "stdout",
     "output_type": "stream",
     "text": [
      " | is numeric | 5 unique values  | consider one-hot? (ordinal?) \n",
      "target percentages:  0    76.5\n",
      "1    23.5\n",
      "Name: y, dtype: float64\n",
      "                lat_sn_count\n",
      "lat_sn_count y              \n",
      "1            0          86.0\n",
      "             1          14.0\n",
      "2            0          76.0\n",
      "             1          24.0\n",
      "3            0          74.0\n",
      "             1          26.0\n",
      "4            0          50.0\n",
      "             1          50.0\n",
      "5            1         100.0\n"
     ]
    },
    {
     "data": {
      "image/png": "[encoded data removed]",
      "text/plain": [
       "<Figure size 576x432 with 1 Axes>"
      ]
     },
     "metadata": {
      "needs_background": "light"
     },
     "output_type": "display_data"
    },
    {
     "name": "stdout",
     "output_type": "stream",
     "text": [
      "\n",
      "view_type_sn_count -- Feature \n",
      "count    5914.00\n",
      "mean        1.96\n",
      "std         0.38\n",
      "min         1.00\n",
      "25%         2.00\n",
      "50%         2.00\n",
      "75%         2.00\n",
      "max         5.00\n",
      "Name: view_type_sn_count, dtype: float64\n"
     ]
    },
    {
     "data": {
      "image/png": "[encoded data removed]",
      "text/plain": [
       "<Figure size 432x288 with 1 Axes>"
      ]
     },
     "metadata": {
      "needs_background": "light"
     },
     "output_type": "display_data"
    },
    {
     "name": "stdout",
     "output_type": "stream",
     "text": [
      " | is numeric | 5 unique values  | consider one-hot? (ordinal?) \n",
      "target percentages:  0    76.5\n",
      "1    23.5\n",
      "Name: y, dtype: float64\n",
      "                      view_type_sn_count\n",
      "view_type_sn_count y                    \n",
      "1                  0                91.1\n",
      "                   1                 8.9\n",
      "2                  0                75.4\n",
      "                   1                24.6\n",
      "3                  0                70.2\n",
      "                   1                29.8\n",
      "4                  0                66.7\n",
      "                   1                33.3\n",
      "5                  0                20.0\n",
      "                   1                80.0\n"
     ]
    },
    {
     "data": {
      "image/png": "[encoded data removed]",
      "text/plain": [
       "<Figure size 576x432 with 1 Axes>"
      ]
     },
     "metadata": {
      "needs_background": "light"
     },
     "output_type": "display_data"
    }
   ],
   "source": [
    "# basic description of all features\n",
    "eda_utils.describe_features(df_all, target_column='y', is_target_categorical=True)"
   ]
  },
  {
   "cell_type": "markdown",
   "metadata": {},
   "source": [
    "#### Notes\n",
    "* Unbalanced data set (roughly 3 to 1 negative to positive) but not hugely unbalanced\n",
    "* Split for each 'view' feature follows the same balance (roughly 3 to 1 negative to positive)\n",
    "* yhat predictions are likely probabilities on the 0 to 1 range. Possible that yhat was trained on a much more skewed data set and that is influencing the probabilities to be much lower. Using a 0.5 classifier, yhat would not predict many positive samples\n",
    "* For the lat_sn_count and view_type_sn_count, The most common occurence is 2. Since this is a created feature based on a not completely understood feature of study_num I should be careful about adding these features.\n",
    "* The study_num counts should be looked into a bit more like what I did with lat_sn_count and view_type_sn_count"
   ]
  },
  {
   "cell_type": "code",
   "execution_count": 18,
   "metadata": {},
   "outputs": [
    {
     "data": {
      "text/plain": [
       "0.13256679066621577"
      ]
     },
     "execution_count": 18,
     "metadata": {},
     "output_type": "execute_result"
    }
   ],
   "source": [
    "# following up on yhat\n",
    "len(df_all[df_all['yhat'] >= 0.5])/len(df_all)"
   ]
  },
  {
   "cell_type": "code",
   "execution_count": 19,
   "metadata": {},
   "outputs": [
    {
     "data": {
      "text/plain": [
       "5259     8\n",
       "3485     7\n",
       "3721     6\n",
       "11435    6\n",
       "5489     6\n",
       "        ..\n",
       "12541    1\n",
       "11749    1\n",
       "3722     1\n",
       "11712    1\n",
       "11080    1\n",
       "Name: study_num, Length: 1678, dtype: int64"
      ]
     },
     "execution_count": 19,
     "metadata": {},
     "output_type": "execute_result"
    }
   ],
   "source": [
    "# following up on study_num\n",
    "df_all['study_num'].value_counts()"
   ]
  },
  {
   "cell_type": "markdown",
   "metadata": {},
   "source": [
    "#### Notes\n",
    "* Count of study_num should become a feature as well\n",
    "* Using a 0.5 predictor threshold, only ~1/8 yhat predict positive when the data has about 1/4 postives. This would be something I would like to follow up on with whoever created the data set\n",
    "* I'm curious how the data set was curated. Like the study_num values that were included, is there any pattern in the difference between the study_num and the number of study_num included/excluded? This could bias the data set."
   ]
  },
  {
   "cell_type": "code",
   "execution_count": 20,
   "metadata": {},
   "outputs": [
    {
     "data": {
      "text/html": [
       "<div>\n",
       "<style scoped>\n",
       "    .dataframe tbody tr th:only-of-type {\n",
       "        vertical-align: middle;\n",
       "    }\n",
       "\n",
       "    .dataframe tbody tr th {\n",
       "        vertical-align: top;\n",
       "    }\n",
       "\n",
       "    .dataframe thead th {\n",
       "        text-align: right;\n",
       "    }\n",
       "</style>\n",
       "<table border=\"1\" class=\"dataframe\">\n",
       "  <thead>\n",
       "    <tr style=\"text-align: right;\">\n",
       "      <th></th>\n",
       "      <th>row_num</th>\n",
       "      <th>study_num</th>\n",
       "      <th>view</th>\n",
       "      <th>y</th>\n",
       "      <th>yhat</th>\n",
       "      <th>laterality</th>\n",
       "      <th>view_type</th>\n",
       "      <th>lat_sn_count</th>\n",
       "      <th>view_type_sn_count</th>\n",
       "      <th>sn_count</th>\n",
       "    </tr>\n",
       "  </thead>\n",
       "  <tbody>\n",
       "    <tr>\n",
       "      <th>0</th>\n",
       "      <td>0</td>\n",
       "      <td>8</td>\n",
       "      <td>LCC</td>\n",
       "      <td>0</td>\n",
       "      <td>0.000857</td>\n",
       "      <td>L</td>\n",
       "      <td>CC</td>\n",
       "      <td>1</td>\n",
       "      <td>2</td>\n",
       "      <td>3</td>\n",
       "    </tr>\n",
       "    <tr>\n",
       "      <th>1</th>\n",
       "      <td>2</td>\n",
       "      <td>8</td>\n",
       "      <td>RCC</td>\n",
       "      <td>1</td>\n",
       "      <td>0.525933</td>\n",
       "      <td>R</td>\n",
       "      <td>CC</td>\n",
       "      <td>2</td>\n",
       "      <td>2</td>\n",
       "      <td>3</td>\n",
       "    </tr>\n",
       "    <tr>\n",
       "      <th>2</th>\n",
       "      <td>1</td>\n",
       "      <td>8</td>\n",
       "      <td>RMLO</td>\n",
       "      <td>1</td>\n",
       "      <td>0.542956</td>\n",
       "      <td>R</td>\n",
       "      <td>MLO</td>\n",
       "      <td>2</td>\n",
       "      <td>1</td>\n",
       "      <td>3</td>\n",
       "    </tr>\n",
       "    <tr>\n",
       "      <th>3</th>\n",
       "      <td>3</td>\n",
       "      <td>10</td>\n",
       "      <td>RMLO</td>\n",
       "      <td>1</td>\n",
       "      <td>0.354297</td>\n",
       "      <td>R</td>\n",
       "      <td>MLO</td>\n",
       "      <td>2</td>\n",
       "      <td>1</td>\n",
       "      <td>3</td>\n",
       "    </tr>\n",
       "    <tr>\n",
       "      <th>4</th>\n",
       "      <td>5</td>\n",
       "      <td>10</td>\n",
       "      <td>RCC</td>\n",
       "      <td>1</td>\n",
       "      <td>0.070244</td>\n",
       "      <td>R</td>\n",
       "      <td>CC</td>\n",
       "      <td>2</td>\n",
       "      <td>2</td>\n",
       "      <td>3</td>\n",
       "    </tr>\n",
       "  </tbody>\n",
       "</table>\n",
       "</div>"
      ],
      "text/plain": [
       "   row_num  study_num  view  y      yhat laterality view_type  lat_sn_count  \\\n",
       "0        0          8   LCC  0  0.000857          L        CC             1   \n",
       "1        2          8   RCC  1  0.525933          R        CC             2   \n",
       "2        1          8  RMLO  1  0.542956          R       MLO             2   \n",
       "3        3         10  RMLO  1  0.354297          R       MLO             2   \n",
       "4        5         10   RCC  1  0.070244          R        CC             2   \n",
       "\n",
       "   view_type_sn_count  sn_count  \n",
       "0                   2         3  \n",
       "1                   2         3  \n",
       "2                   1         3  \n",
       "3                   1         3  \n",
       "4                   2         3  "
      ]
     },
     "execution_count": 20,
     "metadata": {},
     "output_type": "execute_result"
    }
   ],
   "source": [
    "# creating features for count of number of tests done by study_num level\n",
    "df_all_backup = df_all.copy() # storing here temporarily since I'm not the best with groupby and merges\n",
    "df_temp = df_all.groupby(['study_num'])['row_num'].count().reset_index(name=\"sn_count\")\n",
    "\n",
    "# merge counts in\n",
    "df_all_backup = df_all_backup.merge(df_temp, how=\"inner\",on=['study_num'])\n",
    "df_all_backup.head()"
   ]
  },
  {
   "cell_type": "code",
   "execution_count": 21,
   "metadata": {},
   "outputs": [],
   "source": [
    "df_all = df_all_backup.copy()"
   ]
  },
  {
   "cell_type": "code",
   "execution_count": 22,
   "metadata": {},
   "outputs": [
    {
     "name": "stdout",
     "output_type": "stream",
     "text": [
      "Target Column Counts and Distribution: \n",
      "0    4522\n",
      "1    1392\n",
      "Name: y, dtype: int64\n",
      "0    76.5\n",
      "1    23.5\n",
      "Name: y, dtype: float64\n",
      "\n",
      "sn_count -- Feature \n",
      "count    5914.00\n",
      "mean        3.83\n",
      "std         0.74\n",
      "min         1.00\n",
      "25%         4.00\n",
      "50%         4.00\n",
      "75%         4.00\n",
      "max         8.00\n",
      "Name: sn_count, dtype: float64\n"
     ]
    },
    {
     "data": {
      "image/png": "[encoded data removed]",
      "text/plain": [
       "<Figure size 432x288 with 1 Axes>"
      ]
     },
     "metadata": {
      "needs_background": "light"
     },
     "output_type": "display_data"
    },
    {
     "name": "stdout",
     "output_type": "stream",
     "text": [
      " | is numeric | 8 unique values  | consider one-hot? (ordinal?) \n",
      "target percentages:  0    76.5\n",
      "1    23.5\n",
      "Name: y, dtype: float64\n",
      "            sn_count\n",
      "sn_count y          \n",
      "1        0     100.0\n",
      "2        0      96.3\n",
      "         1       3.7\n",
      "3        0      77.6\n",
      "         1      22.4\n",
      "4        0      75.4\n",
      "         1      24.6\n",
      "5        0      66.7\n",
      "         1      33.3\n",
      "6        0      85.7\n",
      "         1      14.3\n",
      "7        0      28.6\n",
      "         1      71.4\n",
      "8        1     100.0\n"
     ]
    },
    {
     "data": {
      "image/png": "[encoded data removed]",
      "text/plain": [
       "<Figure size 576x432 with 1 Axes>"
      ]
     },
     "metadata": {
      "needs_background": "light"
     },
     "output_type": "display_data"
    },
    {
     "name": "stdout",
     "output_type": "stream",
     "text": [
      "\n",
      "y -- Feature \n",
      "count    5914.00\n",
      "mean        0.24\n",
      "std         0.42\n",
      "min         0.00\n",
      "25%         0.00\n",
      "50%         0.00\n",
      "75%         0.00\n",
      "max         1.00\n",
      "Name: y, dtype: float64\n"
     ]
    },
    {
     "data": {
      "image/png": "[encoded data removed]",
      "text/plain": [
       "<Figure size 432x288 with 1 Axes>"
      ]
     },
     "metadata": {
      "needs_background": "light"
     },
     "output_type": "display_data"
    },
    {
     "name": "stdout",
     "output_type": "stream",
     "text": [
      " | is numeric | 2 unique values  | consider one-hot? (ordinal?) \n",
      "target percentages:  0    76.5\n",
      "1    23.5\n",
      "Name: y, dtype: float64\n",
      "         y\n",
      "y y       \n",
      "0 0  100.0\n",
      "1 1  100.0\n"
     ]
    },
    {
     "data": {
      "image/png": "[encoded data removed]",
      "text/plain": [
       "<Figure size 576x432 with 1 Axes>"
      ]
     },
     "metadata": {
      "needs_background": "light"
     },
     "output_type": "display_data"
    }
   ],
   "source": [
    "# rerunning the EDA above, only looking at the new sn_count feature\n",
    "eda_utils.describe_features(df_all[['sn_count', 'y']], target_column='y', is_target_categorical=True)"
   ]
  },
  {
   "cell_type": "code",
   "execution_count": 23,
   "metadata": {},
   "outputs": [
    {
     "data": {
      "text/plain": [
       "4    4680\n",
       "3     588\n",
       "5     255\n",
       "1     170\n",
       "2     164\n",
       "6      42\n",
       "8       8\n",
       "7       7\n",
       "Name: sn_count, dtype: int64"
      ]
     },
     "execution_count": 23,
     "metadata": {},
     "output_type": "execute_result"
    }
   ],
   "source": [
    "df_all['sn_count'].value_counts()"
   ]
  },
  {
   "cell_type": "code",
   "execution_count": 24,
   "metadata": {},
   "outputs": [
    {
     "data": {
      "text/plain": [
       "0.3333333333333333"
      ]
     },
     "execution_count": 24,
     "metadata": {},
     "output_type": "execute_result"
    }
   ],
   "source": [
    "# does more study number tests potentially indicate something\n",
    "df_temp = df_all[df_all['sn_count'] > 4]\n",
    "np.sum(df_temp['y'])/len(df_temp)"
   ]
  },
  {
   "cell_type": "markdown",
   "metadata": {},
   "source": [
    "#### Notes\n",
    "* 4 for study_num count is the highest value (what you would expect if each study_num is a patient) \n",
    "* 33% postive rate (compared to 25%) case of study_number when there are more than 4 tests\n",
    "* I would definitely follow up on study_num to get more details about it and which study_num was being selected\n",
    "* Is there an obvious reason why the positivity rate is higher for more study_num tests being done? Ie follow up tests for something specific, probabilities increasing simply due to more trials, etc?"
   ]
  },
  {
   "cell_type": "code",
   "execution_count": 25,
   "metadata": {},
   "outputs": [
    {
     "name": "stdout",
     "output_type": "stream",
     "text": [
      "Simple plt.plot, looking for horizontal lines for repeated values or vertical lines for non shuffled\n",
      "Train row_num\n"
     ]
    },
    {
     "data": {
      "image/png": "[encoded data removed]",
      "text/plain": [
       "<Figure size 432x288 with 1 Axes>"
      ]
     },
     "metadata": {
      "needs_background": "light"
     },
     "output_type": "display_data"
    },
    {
     "name": "stdout",
     "output_type": "stream",
     "text": [
      "Train study_num\n"
     ]
    },
    {
     "data": {
      "image/png": "[encoded data removed]",
      "text/plain": [
       "<Figure size 432x288 with 1 Axes>"
      ]
     },
     "metadata": {
      "needs_background": "light"
     },
     "output_type": "display_data"
    },
    {
     "name": "stdout",
     "output_type": "stream",
     "text": [
      "Train y\n"
     ]
    },
    {
     "data": {
      "image/png": "[encoded data removed]",
      "text/plain": [
       "<Figure size 432x288 with 1 Axes>"
      ]
     },
     "metadata": {
      "needs_background": "light"
     },
     "output_type": "display_data"
    },
    {
     "name": "stdout",
     "output_type": "stream",
     "text": [
      "Train yhat\n"
     ]
    },
    {
     "data": {
      "image/png": "[encoded data removed]",
      "text/plain": [
       "<Figure size 432x288 with 1 Axes>"
      ]
     },
     "metadata": {
      "needs_background": "light"
     },
     "output_type": "display_data"
    },
    {
     "name": "stdout",
     "output_type": "stream",
     "text": [
      "Train lat_sn_count\n"
     ]
    },
    {
     "data": {
      "image/png": "[encoded data removed]",
      "text/plain": [
       "<Figure size 432x288 with 1 Axes>"
      ]
     },
     "metadata": {
      "needs_background": "light"
     },
     "output_type": "display_data"
    },
    {
     "name": "stdout",
     "output_type": "stream",
     "text": [
      "Train view_type_sn_count\n"
     ]
    },
    {
     "data": {
      "image/png": "[encoded data removed]",
      "text/plain": [
       "<Figure size 432x288 with 1 Axes>"
      ]
     },
     "metadata": {
      "needs_background": "light"
     },
     "output_type": "display_data"
    },
    {
     "name": "stdout",
     "output_type": "stream",
     "text": [
      "Train sn_count\n"
     ]
    },
    {
     "data": {
      "image/png": "[encoded data removed]",
      "text/plain": [
       "<Figure size 432x288 with 1 Axes>"
      ]
     },
     "metadata": {
      "needs_background": "light"
     },
     "output_type": "display_data"
    }
   ],
   "source": [
    "# simple index plots\n",
    "# Simple plt.plot, looking for horizontal lines for repeated values or vertical lines for non shuffled\n",
    "eda_utils.index_plots(df_all)"
   ]
  },
  {
   "cell_type": "markdown",
   "metadata": {},
   "source": [
    "#### Notes\n",
    "* The study_num value increase has a weird jump in it. Perhaps training or data collection changed in this timeframe? This would be worth looking into or perhaps analyzing the data on either side of the jump if more time.\n",
    "\n",
    "\n"
   ]
  },
  {
   "cell_type": "code",
   "execution_count": 26,
   "metadata": {},
   "outputs": [
    {
     "name": "stdout",
     "output_type": "stream",
     "text": [
      "Columns with least unique values: \n",
      "y                        2\n",
      "laterality               2\n",
      "view_type                2\n",
      "view                     4\n",
      "lat_sn_count             5\n",
      "view_type_sn_count       5\n",
      "sn_count                 8\n",
      "study_num             1678\n",
      "yhat                  5910\n",
      "row_num               5914\n",
      "dtype: int64\n",
      "Histogram of unique values\n"
     ]
    },
    {
     "data": {
      "image/png": "[encoded data removed]",
      "text/plain": [
       "<Figure size 432x288 with 1 Axes>"
      ]
     },
     "metadata": {
      "needs_background": "light"
     },
     "output_type": "display_data"
    }
   ],
   "source": [
    "# check that each column has unique values\n",
    "eda_utils.check_column_counts(df_all)"
   ]
  },
  {
   "cell_type": "code",
   "execution_count": 27,
   "metadata": {},
   "outputs": [
    {
     "name": "stdout",
     "output_type": "stream",
     "text": [
      "Total Unique Values (Total rows 5914)\n",
      "row_num               5914\n",
      "study_num             1678\n",
      "view                     4\n",
      "y                        2\n",
      "yhat                  5910\n",
      "laterality               2\n",
      "view_type                2\n",
      "lat_sn_count             5\n",
      "view_type_sn_count       5\n",
      "sn_count                 8\n",
      "dtype: int64\n",
      "Rows with duplicated values (no target col): 0\n",
      "Rows with duplicated values (including target col): 0\n",
      "Empty DataFrame\n",
      "Columns: [row_num, study_num, view, y, yhat, laterality, view_type, lat_sn_count, view_type_sn_count, sn_count]\n",
      "Index: []\n"
     ]
    },
    {
     "data": {
      "text/html": [
       "<div>\n",
       "<style scoped>\n",
       "    .dataframe tbody tr th:only-of-type {\n",
       "        vertical-align: middle;\n",
       "    }\n",
       "\n",
       "    .dataframe tbody tr th {\n",
       "        vertical-align: top;\n",
       "    }\n",
       "\n",
       "    .dataframe thead th {\n",
       "        text-align: right;\n",
       "    }\n",
       "</style>\n",
       "<table border=\"1\" class=\"dataframe\">\n",
       "  <thead>\n",
       "    <tr style=\"text-align: right;\">\n",
       "      <th></th>\n",
       "      <th>row_num</th>\n",
       "      <th>study_num</th>\n",
       "      <th>view</th>\n",
       "      <th>y</th>\n",
       "      <th>yhat</th>\n",
       "      <th>laterality</th>\n",
       "      <th>view_type</th>\n",
       "      <th>lat_sn_count</th>\n",
       "      <th>view_type_sn_count</th>\n",
       "      <th>sn_count</th>\n",
       "    </tr>\n",
       "  </thead>\n",
       "  <tbody>\n",
       "  </tbody>\n",
       "</table>\n",
       "</div>"
      ],
      "text/plain": [
       "Empty DataFrame\n",
       "Columns: [row_num, study_num, view, y, yhat, laterality, view_type, lat_sn_count, view_type_sn_count, sn_count]\n",
       "Index: []"
      ]
     },
     "execution_count": 27,
     "metadata": {},
     "output_type": "execute_result"
    }
   ],
   "source": [
    "# check for unique rows\n",
    "eda_utils.check_unique_rows(df_all, target_col='y')"
   ]
  },
  {
   "cell_type": "code",
   "execution_count": 28,
   "metadata": {},
   "outputs": [
    {
     "data": {
      "text/plain": [
       "RandomForestClassifier(max_depth=2, n_jobs=3, random_state=0)"
      ]
     },
     "execution_count": 28,
     "metadata": {},
     "output_type": "execute_result"
    }
   ],
   "source": [
    "# quick and dirty Random Forest to see the feature importance\n",
    "from sklearn.ensemble import RandomForestClassifier\n",
    "\n",
    "#categorical variables: view, laterality, view_type\n",
    "df_oh_v = pd.get_dummies(df_all['view']) \n",
    "df_oh_l = pd.get_dummies(df_all['laterality'])\n",
    "df_oh_vt = pd.get_dummies(df_all['view_type'])\n",
    "\n",
    "df_temp = pd.concat([df_all, df_oh_v, df_oh_l, df_oh_vt], axis=1)\n",
    "temp_y = df_all['y'].values\n",
    "\n",
    "to_drop_cols = ['y', 'view', 'laterality', 'view_type']\n",
    "df_temp = df_temp.drop(to_drop_cols,axis=1)\n",
    "clf = RandomForestClassifier(max_depth=2, random_state=0, n_jobs=3)\n",
    "clf.fit(df_temp, temp_y)"
   ]
  },
  {
   "cell_type": "code",
   "execution_count": 29,
   "metadata": {},
   "outputs": [
    {
     "data": {
      "text/html": [
       "<div>\n",
       "<style scoped>\n",
       "    .dataframe tbody tr th:only-of-type {\n",
       "        vertical-align: middle;\n",
       "    }\n",
       "\n",
       "    .dataframe tbody tr th {\n",
       "        vertical-align: top;\n",
       "    }\n",
       "\n",
       "    .dataframe thead th {\n",
       "        text-align: right;\n",
       "    }\n",
       "</style>\n",
       "<table border=\"1\" class=\"dataframe\">\n",
       "  <thead>\n",
       "    <tr style=\"text-align: right;\">\n",
       "      <th></th>\n",
       "      <th>importance</th>\n",
       "    </tr>\n",
       "  </thead>\n",
       "  <tbody>\n",
       "    <tr>\n",
       "      <th>yhat</th>\n",
       "      <td>0.379730</td>\n",
       "    </tr>\n",
       "    <tr>\n",
       "      <th>study_num</th>\n",
       "      <td>0.239817</td>\n",
       "    </tr>\n",
       "    <tr>\n",
       "      <th>row_num</th>\n",
       "      <td>0.219690</td>\n",
       "    </tr>\n",
       "    <tr>\n",
       "      <th>sn_count</th>\n",
       "      <td>0.084788</td>\n",
       "    </tr>\n",
       "    <tr>\n",
       "      <th>view_type_sn_count</th>\n",
       "      <td>0.033634</td>\n",
       "    </tr>\n",
       "    <tr>\n",
       "      <th>lat_sn_count</th>\n",
       "      <td>0.026056</td>\n",
       "    </tr>\n",
       "    <tr>\n",
       "      <th>L</th>\n",
       "      <td>0.010462</td>\n",
       "    </tr>\n",
       "    <tr>\n",
       "      <th>RCC</th>\n",
       "      <td>0.001934</td>\n",
       "    </tr>\n",
       "    <tr>\n",
       "      <th>CC</th>\n",
       "      <td>0.001620</td>\n",
       "    </tr>\n",
       "    <tr>\n",
       "      <th>LMLO</th>\n",
       "      <td>0.000832</td>\n",
       "    </tr>\n",
       "    <tr>\n",
       "      <th>LCC</th>\n",
       "      <td>0.000475</td>\n",
       "    </tr>\n",
       "    <tr>\n",
       "      <th>R</th>\n",
       "      <td>0.000400</td>\n",
       "    </tr>\n",
       "    <tr>\n",
       "      <th>RMLO</th>\n",
       "      <td>0.000284</td>\n",
       "    </tr>\n",
       "    <tr>\n",
       "      <th>MLO</th>\n",
       "      <td>0.000278</td>\n",
       "    </tr>\n",
       "  </tbody>\n",
       "</table>\n",
       "</div>"
      ],
      "text/plain": [
       "                    importance\n",
       "yhat                  0.379730\n",
       "study_num             0.239817\n",
       "row_num               0.219690\n",
       "sn_count              0.084788\n",
       "view_type_sn_count    0.033634\n",
       "lat_sn_count          0.026056\n",
       "L                     0.010462\n",
       "RCC                   0.001934\n",
       "CC                    0.001620\n",
       "LMLO                  0.000832\n",
       "LCC                   0.000475\n",
       "R                     0.000400\n",
       "RMLO                  0.000284\n",
       "MLO                   0.000278"
      ]
     },
     "execution_count": 29,
     "metadata": {},
     "output_type": "execute_result"
    }
   ],
   "source": [
    "rf_feature_importances = pd.DataFrame(clf.feature_importances_,\n",
    "                                   index = df_temp.columns,\n",
    "                                    columns=['importance']).sort_values('importance',  ascending=False)\n",
    "rf_feature_importances"
   ]
  },
  {
   "cell_type": "markdown",
   "metadata": {},
   "source": [
    "#### EDA Summary\n",
    "* I have questions on study_num, data generation, and data curation that should be looked into\n",
    "* I have created some features but I should be careful about potential increased dimensionality concerns with such a small data set\n",
    "* I have concerns that row_num and possibly study_num have such high feature importance"
   ]
  },
  {
   "cell_type": "code",
   "execution_count": 30,
   "metadata": {},
   "outputs": [],
   "source": [
    "# saving data frame\n",
    "eda_file_out = \"df_after_eda.csv\"\n",
    "df_all.to_csv(eda_file_out, index=False)"
   ]
  },
  {
   "cell_type": "markdown",
   "metadata": {},
   "source": [
    "### Section 2: Data Preparation\n",
    "* Basic plan is to: \n",
    "    * One hot the ordinal values (view, laterality, view type)\n",
    "    * Scale the numeric values (row_num, the counts)\n",
    "    * Make a new study_num column that is scaled (yes this is ordinal but I wonder if there is leaky feature in here due to the possible time nature or sequencing of how study_num is generated)\n",
    "* Things I considered but dismissed to due time constraints or dimensionality worries, since I might have already created too many features:\n",
    "    * Label encoding, mean encoding\n",
    "    * Adding more two or more way interactions between features. I'm keeping the two way interaction 'view' but dropping view since I broke view into view_type and laterality might be preferred.\n",
    "    "
   ]
  },
  {
   "cell_type": "code",
   "execution_count": 31,
   "metadata": {},
   "outputs": [],
   "source": [
    "# check point\n",
    "# notebook can be rerun from here\n",
    "\n",
    "# dependencies\n",
    "import numpy as np\n",
    "import pandas as pd\n",
    "import matplotlib.pyplot as plt\n",
    "%matplotlib inline\n",
    "import seaborn as sns\n",
    "import missingno as msno\n",
    "pd.options.display.max_columns = None\n",
    "from sklearn.preprocessing import MinMaxScaler\n",
    "from tqdm import tqdm_notebook"
   ]
  },
  {
   "cell_type": "code",
   "execution_count": 32,
   "metadata": {},
   "outputs": [
    {
     "data": {
      "text/html": [
       "<div>\n",
       "<style scoped>\n",
       "    .dataframe tbody tr th:only-of-type {\n",
       "        vertical-align: middle;\n",
       "    }\n",
       "\n",
       "    .dataframe tbody tr th {\n",
       "        vertical-align: top;\n",
       "    }\n",
       "\n",
       "    .dataframe thead th {\n",
       "        text-align: right;\n",
       "    }\n",
       "</style>\n",
       "<table border=\"1\" class=\"dataframe\">\n",
       "  <thead>\n",
       "    <tr style=\"text-align: right;\">\n",
       "      <th></th>\n",
       "      <th>row_num</th>\n",
       "      <th>study_num</th>\n",
       "      <th>view</th>\n",
       "      <th>y</th>\n",
       "      <th>yhat</th>\n",
       "      <th>laterality</th>\n",
       "      <th>view_type</th>\n",
       "      <th>lat_sn_count</th>\n",
       "      <th>view_type_sn_count</th>\n",
       "      <th>sn_count</th>\n",
       "    </tr>\n",
       "  </thead>\n",
       "  <tbody>\n",
       "    <tr>\n",
       "      <th>0</th>\n",
       "      <td>0</td>\n",
       "      <td>8</td>\n",
       "      <td>LCC</td>\n",
       "      <td>0</td>\n",
       "      <td>0.000857</td>\n",
       "      <td>L</td>\n",
       "      <td>CC</td>\n",
       "      <td>1</td>\n",
       "      <td>2</td>\n",
       "      <td>3</td>\n",
       "    </tr>\n",
       "    <tr>\n",
       "      <th>1</th>\n",
       "      <td>2</td>\n",
       "      <td>8</td>\n",
       "      <td>RCC</td>\n",
       "      <td>1</td>\n",
       "      <td>0.525933</td>\n",
       "      <td>R</td>\n",
       "      <td>CC</td>\n",
       "      <td>2</td>\n",
       "      <td>2</td>\n",
       "      <td>3</td>\n",
       "    </tr>\n",
       "    <tr>\n",
       "      <th>2</th>\n",
       "      <td>1</td>\n",
       "      <td>8</td>\n",
       "      <td>RMLO</td>\n",
       "      <td>1</td>\n",
       "      <td>0.542956</td>\n",
       "      <td>R</td>\n",
       "      <td>MLO</td>\n",
       "      <td>2</td>\n",
       "      <td>1</td>\n",
       "      <td>3</td>\n",
       "    </tr>\n",
       "    <tr>\n",
       "      <th>3</th>\n",
       "      <td>3</td>\n",
       "      <td>10</td>\n",
       "      <td>RMLO</td>\n",
       "      <td>1</td>\n",
       "      <td>0.354297</td>\n",
       "      <td>R</td>\n",
       "      <td>MLO</td>\n",
       "      <td>2</td>\n",
       "      <td>1</td>\n",
       "      <td>3</td>\n",
       "    </tr>\n",
       "    <tr>\n",
       "      <th>4</th>\n",
       "      <td>5</td>\n",
       "      <td>10</td>\n",
       "      <td>RCC</td>\n",
       "      <td>1</td>\n",
       "      <td>0.070244</td>\n",
       "      <td>R</td>\n",
       "      <td>CC</td>\n",
       "      <td>2</td>\n",
       "      <td>2</td>\n",
       "      <td>3</td>\n",
       "    </tr>\n",
       "  </tbody>\n",
       "</table>\n",
       "</div>"
      ],
      "text/plain": [
       "   row_num  study_num  view  y      yhat laterality view_type  lat_sn_count  \\\n",
       "0        0          8   LCC  0  0.000857          L        CC             1   \n",
       "1        2          8   RCC  1  0.525933          R        CC             2   \n",
       "2        1          8  RMLO  1  0.542956          R       MLO             2   \n",
       "3        3         10  RMLO  1  0.354297          R       MLO             2   \n",
       "4        5         10   RCC  1  0.070244          R        CC             2   \n",
       "\n",
       "   view_type_sn_count  sn_count  \n",
       "0                   2         3  \n",
       "1                   2         3  \n",
       "2                   1         3  \n",
       "3                   1         3  \n",
       "4                   2         3  "
      ]
     },
     "execution_count": 32,
     "metadata": {},
     "output_type": "execute_result"
    }
   ],
   "source": [
    "df_all_in = pd.read_csv(\"df_after_eda.csv\")\n",
    "df_all_in.head()"
   ]
  },
  {
   "cell_type": "code",
   "execution_count": 33,
   "metadata": {},
   "outputs": [],
   "source": [
    "# create study_num scaled column\n",
    "df_all = df_all_in.copy()\n",
    "df_all['study_num_scaled'] = df_all['study_num']\n",
    "\n",
    "#scale numerical values\n",
    "scale_columns = ['lat_sn_count', 'view_type_sn_count', 'sn_count', 'study_num_scaled']\n",
    "scaler = MinMaxScaler()\n",
    "\n",
    "df_all[scale_columns] = scaler.fit_transform(df_all[scale_columns])"
   ]
  },
  {
   "cell_type": "code",
   "execution_count": 34,
   "metadata": {},
   "outputs": [
    {
     "data": {
      "text/plain": [
       "1678"
      ]
     },
     "execution_count": 34,
     "metadata": {},
     "output_type": "execute_result"
    }
   ],
   "source": [
    "# handle categorical variables\n",
    "len(df_all['study_num'].drop_duplicates())"
   ]
  },
  {
   "cell_type": "code",
   "execution_count": 35,
   "metadata": {},
   "outputs": [],
   "source": [
    "# too many categorical variables to one hot study_num. I also don't think label or mean encoding makes sense in this case."
   ]
  },
  {
   "cell_type": "code",
   "execution_count": 36,
   "metadata": {},
   "outputs": [
    {
     "data": {
      "text/plain": [
       "(5914, 19)"
      ]
     },
     "execution_count": 36,
     "metadata": {},
     "output_type": "execute_result"
    }
   ],
   "source": [
    "#categorical variables: view, laterality, view_type\n",
    "df_oh_v = pd.get_dummies(df_all['view']) \n",
    "df_oh_l = pd.get_dummies(df_all['laterality'])\n",
    "df_oh_vt = pd.get_dummies(df_all['view_type'])\n",
    "df_all_oh = pd.concat([df_all, df_oh_v, df_oh_l, df_oh_vt], axis=1)\n",
    "\n",
    "df_all_oh.shape"
   ]
  },
  {
   "cell_type": "code",
   "execution_count": 37,
   "metadata": {},
   "outputs": [
    {
     "data": {
      "text/html": [
       "<div>\n",
       "<style scoped>\n",
       "    .dataframe tbody tr th:only-of-type {\n",
       "        vertical-align: middle;\n",
       "    }\n",
       "\n",
       "    .dataframe tbody tr th {\n",
       "        vertical-align: top;\n",
       "    }\n",
       "\n",
       "    .dataframe thead th {\n",
       "        text-align: right;\n",
       "    }\n",
       "</style>\n",
       "<table border=\"1\" class=\"dataframe\">\n",
       "  <thead>\n",
       "    <tr style=\"text-align: right;\">\n",
       "      <th></th>\n",
       "      <th>row_num</th>\n",
       "      <th>study_num</th>\n",
       "      <th>view</th>\n",
       "      <th>y</th>\n",
       "      <th>yhat</th>\n",
       "      <th>laterality</th>\n",
       "      <th>view_type</th>\n",
       "      <th>lat_sn_count</th>\n",
       "      <th>view_type_sn_count</th>\n",
       "      <th>sn_count</th>\n",
       "      <th>study_num_scaled</th>\n",
       "      <th>LCC</th>\n",
       "      <th>LMLO</th>\n",
       "      <th>RCC</th>\n",
       "      <th>RMLO</th>\n",
       "      <th>L</th>\n",
       "      <th>R</th>\n",
       "      <th>CC</th>\n",
       "      <th>MLO</th>\n",
       "    </tr>\n",
       "  </thead>\n",
       "  <tbody>\n",
       "    <tr>\n",
       "      <th>0</th>\n",
       "      <td>0</td>\n",
       "      <td>8</td>\n",
       "      <td>LCC</td>\n",
       "      <td>0</td>\n",
       "      <td>0.000857</td>\n",
       "      <td>L</td>\n",
       "      <td>CC</td>\n",
       "      <td>0.00</td>\n",
       "      <td>0.25</td>\n",
       "      <td>0.285714</td>\n",
       "      <td>0.000000</td>\n",
       "      <td>1</td>\n",
       "      <td>0</td>\n",
       "      <td>0</td>\n",
       "      <td>0</td>\n",
       "      <td>1</td>\n",
       "      <td>0</td>\n",
       "      <td>1</td>\n",
       "      <td>0</td>\n",
       "    </tr>\n",
       "    <tr>\n",
       "      <th>1</th>\n",
       "      <td>2</td>\n",
       "      <td>8</td>\n",
       "      <td>RCC</td>\n",
       "      <td>1</td>\n",
       "      <td>0.525933</td>\n",
       "      <td>R</td>\n",
       "      <td>CC</td>\n",
       "      <td>0.25</td>\n",
       "      <td>0.25</td>\n",
       "      <td>0.285714</td>\n",
       "      <td>0.000000</td>\n",
       "      <td>0</td>\n",
       "      <td>0</td>\n",
       "      <td>1</td>\n",
       "      <td>0</td>\n",
       "      <td>0</td>\n",
       "      <td>1</td>\n",
       "      <td>1</td>\n",
       "      <td>0</td>\n",
       "    </tr>\n",
       "    <tr>\n",
       "      <th>2</th>\n",
       "      <td>1</td>\n",
       "      <td>8</td>\n",
       "      <td>RMLO</td>\n",
       "      <td>1</td>\n",
       "      <td>0.542956</td>\n",
       "      <td>R</td>\n",
       "      <td>MLO</td>\n",
       "      <td>0.25</td>\n",
       "      <td>0.00</td>\n",
       "      <td>0.285714</td>\n",
       "      <td>0.000000</td>\n",
       "      <td>0</td>\n",
       "      <td>0</td>\n",
       "      <td>0</td>\n",
       "      <td>1</td>\n",
       "      <td>0</td>\n",
       "      <td>1</td>\n",
       "      <td>0</td>\n",
       "      <td>1</td>\n",
       "    </tr>\n",
       "    <tr>\n",
       "      <th>3</th>\n",
       "      <td>3</td>\n",
       "      <td>10</td>\n",
       "      <td>RMLO</td>\n",
       "      <td>1</td>\n",
       "      <td>0.354297</td>\n",
       "      <td>R</td>\n",
       "      <td>MLO</td>\n",
       "      <td>0.25</td>\n",
       "      <td>0.00</td>\n",
       "      <td>0.285714</td>\n",
       "      <td>0.000143</td>\n",
       "      <td>0</td>\n",
       "      <td>0</td>\n",
       "      <td>0</td>\n",
       "      <td>1</td>\n",
       "      <td>0</td>\n",
       "      <td>1</td>\n",
       "      <td>0</td>\n",
       "      <td>1</td>\n",
       "    </tr>\n",
       "    <tr>\n",
       "      <th>4</th>\n",
       "      <td>5</td>\n",
       "      <td>10</td>\n",
       "      <td>RCC</td>\n",
       "      <td>1</td>\n",
       "      <td>0.070244</td>\n",
       "      <td>R</td>\n",
       "      <td>CC</td>\n",
       "      <td>0.25</td>\n",
       "      <td>0.25</td>\n",
       "      <td>0.285714</td>\n",
       "      <td>0.000143</td>\n",
       "      <td>0</td>\n",
       "      <td>0</td>\n",
       "      <td>1</td>\n",
       "      <td>0</td>\n",
       "      <td>0</td>\n",
       "      <td>1</td>\n",
       "      <td>1</td>\n",
       "      <td>0</td>\n",
       "    </tr>\n",
       "  </tbody>\n",
       "</table>\n",
       "</div>"
      ],
      "text/plain": [
       "   row_num  study_num  view  y      yhat laterality view_type  lat_sn_count  \\\n",
       "0        0          8   LCC  0  0.000857          L        CC          0.00   \n",
       "1        2          8   RCC  1  0.525933          R        CC          0.25   \n",
       "2        1          8  RMLO  1  0.542956          R       MLO          0.25   \n",
       "3        3         10  RMLO  1  0.354297          R       MLO          0.25   \n",
       "4        5         10   RCC  1  0.070244          R        CC          0.25   \n",
       "\n",
       "   view_type_sn_count  sn_count  study_num_scaled  LCC  LMLO  RCC  RMLO  L  R  \\\n",
       "0                0.25  0.285714          0.000000    1     0    0     0  1  0   \n",
       "1                0.25  0.285714          0.000000    0     0    1     0  0  1   \n",
       "2                0.00  0.285714          0.000000    0     0    0     1  0  1   \n",
       "3                0.00  0.285714          0.000143    0     0    0     1  0  1   \n",
       "4                0.25  0.285714          0.000143    0     0    1     0  0  1   \n",
       "\n",
       "   CC  MLO  \n",
       "0   1    0  \n",
       "1   1    0  \n",
       "2   0    1  \n",
       "3   0    1  \n",
       "4   1    0  "
      ]
     },
     "execution_count": 37,
     "metadata": {},
     "output_type": "execute_result"
    }
   ],
   "source": [
    "# checking transformation came out okay\n",
    "df_all_oh.head()"
   ]
  },
  {
   "cell_type": "code",
   "execution_count": 38,
   "metadata": {},
   "outputs": [
    {
     "data": {
      "text/html": [
       "<div>\n",
       "<style scoped>\n",
       "    .dataframe tbody tr th:only-of-type {\n",
       "        vertical-align: middle;\n",
       "    }\n",
       "\n",
       "    .dataframe tbody tr th {\n",
       "        vertical-align: top;\n",
       "    }\n",
       "\n",
       "    .dataframe thead th {\n",
       "        text-align: right;\n",
       "    }\n",
       "</style>\n",
       "<table border=\"1\" class=\"dataframe\">\n",
       "  <thead>\n",
       "    <tr style=\"text-align: right;\">\n",
       "      <th></th>\n",
       "      <th>row_num</th>\n",
       "      <th>study_num</th>\n",
       "      <th>y</th>\n",
       "      <th>yhat</th>\n",
       "      <th>lat_sn_count</th>\n",
       "      <th>view_type_sn_count</th>\n",
       "      <th>sn_count</th>\n",
       "      <th>study_num_scaled</th>\n",
       "      <th>LCC</th>\n",
       "      <th>LMLO</th>\n",
       "      <th>RCC</th>\n",
       "      <th>RMLO</th>\n",
       "      <th>L</th>\n",
       "      <th>R</th>\n",
       "      <th>CC</th>\n",
       "      <th>MLO</th>\n",
       "    </tr>\n",
       "  </thead>\n",
       "  <tbody>\n",
       "    <tr>\n",
       "      <th>count</th>\n",
       "      <td>5914.000000</td>\n",
       "      <td>5914.000000</td>\n",
       "      <td>5914.000000</td>\n",
       "      <td>5914.000000</td>\n",
       "      <td>5914.000000</td>\n",
       "      <td>5914.000000</td>\n",
       "      <td>5914.000000</td>\n",
       "      <td>5914.000000</td>\n",
       "      <td>5914.000000</td>\n",
       "      <td>5914.000000</td>\n",
       "      <td>5914.000000</td>\n",
       "      <td>5914.000000</td>\n",
       "      <td>5914.000000</td>\n",
       "      <td>5914.000000</td>\n",
       "      <td>5914.000000</td>\n",
       "      <td>5914.000000</td>\n",
       "    </tr>\n",
       "    <tr>\n",
       "      <th>mean</th>\n",
       "      <td>2956.500000</td>\n",
       "      <td>7248.516064</td>\n",
       "      <td>0.235374</td>\n",
       "      <td>0.153561</td>\n",
       "      <td>0.245773</td>\n",
       "      <td>0.239601</td>\n",
       "      <td>0.403594</td>\n",
       "      <td>0.517957</td>\n",
       "      <td>0.262766</td>\n",
       "      <td>0.214068</td>\n",
       "      <td>0.265641</td>\n",
       "      <td>0.257525</td>\n",
       "      <td>0.476835</td>\n",
       "      <td>0.523165</td>\n",
       "      <td>0.528407</td>\n",
       "      <td>0.471593</td>\n",
       "    </tr>\n",
       "    <tr>\n",
       "      <th>std</th>\n",
       "      <td>1707.369077</td>\n",
       "      <td>4264.464809</td>\n",
       "      <td>0.424268</td>\n",
       "      <td>0.229188</td>\n",
       "      <td>0.087013</td>\n",
       "      <td>0.094996</td>\n",
       "      <td>0.105211</td>\n",
       "      <td>0.305062</td>\n",
       "      <td>0.440174</td>\n",
       "      <td>0.410209</td>\n",
       "      <td>0.441711</td>\n",
       "      <td>0.437308</td>\n",
       "      <td>0.499505</td>\n",
       "      <td>0.499505</td>\n",
       "      <td>0.499235</td>\n",
       "      <td>0.499235</td>\n",
       "    </tr>\n",
       "    <tr>\n",
       "      <th>min</th>\n",
       "      <td>0.000000</td>\n",
       "      <td>8.000000</td>\n",
       "      <td>0.000000</td>\n",
       "      <td>0.000168</td>\n",
       "      <td>0.000000</td>\n",
       "      <td>0.000000</td>\n",
       "      <td>0.000000</td>\n",
       "      <td>0.000000</td>\n",
       "      <td>0.000000</td>\n",
       "      <td>0.000000</td>\n",
       "      <td>0.000000</td>\n",
       "      <td>0.000000</td>\n",
       "      <td>0.000000</td>\n",
       "      <td>0.000000</td>\n",
       "      <td>0.000000</td>\n",
       "      <td>0.000000</td>\n",
       "    </tr>\n",
       "    <tr>\n",
       "      <th>25%</th>\n",
       "      <td>1478.250000</td>\n",
       "      <td>3486.500000</td>\n",
       "      <td>0.000000</td>\n",
       "      <td>0.000964</td>\n",
       "      <td>0.250000</td>\n",
       "      <td>0.250000</td>\n",
       "      <td>0.428571</td>\n",
       "      <td>0.248838</td>\n",
       "      <td>0.000000</td>\n",
       "      <td>0.000000</td>\n",
       "      <td>0.000000</td>\n",
       "      <td>0.000000</td>\n",
       "      <td>0.000000</td>\n",
       "      <td>0.000000</td>\n",
       "      <td>0.000000</td>\n",
       "      <td>0.000000</td>\n",
       "    </tr>\n",
       "    <tr>\n",
       "      <th>50%</th>\n",
       "      <td>2956.500000</td>\n",
       "      <td>8385.000000</td>\n",
       "      <td>0.000000</td>\n",
       "      <td>0.002955</td>\n",
       "      <td>0.250000</td>\n",
       "      <td>0.250000</td>\n",
       "      <td>0.428571</td>\n",
       "      <td>0.599256</td>\n",
       "      <td>0.000000</td>\n",
       "      <td>0.000000</td>\n",
       "      <td>0.000000</td>\n",
       "      <td>0.000000</td>\n",
       "      <td>0.000000</td>\n",
       "      <td>1.000000</td>\n",
       "      <td>1.000000</td>\n",
       "      <td>0.000000</td>\n",
       "    </tr>\n",
       "    <tr>\n",
       "      <th>75%</th>\n",
       "      <td>4434.750000</td>\n",
       "      <td>11077.750000</td>\n",
       "      <td>0.000000</td>\n",
       "      <td>0.279555</td>\n",
       "      <td>0.250000</td>\n",
       "      <td>0.250000</td>\n",
       "      <td>0.428571</td>\n",
       "      <td>0.791884</td>\n",
       "      <td>1.000000</td>\n",
       "      <td>0.000000</td>\n",
       "      <td>1.000000</td>\n",
       "      <td>1.000000</td>\n",
       "      <td>1.000000</td>\n",
       "      <td>1.000000</td>\n",
       "      <td>1.000000</td>\n",
       "      <td>1.000000</td>\n",
       "    </tr>\n",
       "    <tr>\n",
       "      <th>max</th>\n",
       "      <td>5913.000000</td>\n",
       "      <td>13987.000000</td>\n",
       "      <td>1.000000</td>\n",
       "      <td>0.847084</td>\n",
       "      <td>1.000000</td>\n",
       "      <td>1.000000</td>\n",
       "      <td>1.000000</td>\n",
       "      <td>1.000000</td>\n",
       "      <td>1.000000</td>\n",
       "      <td>1.000000</td>\n",
       "      <td>1.000000</td>\n",
       "      <td>1.000000</td>\n",
       "      <td>1.000000</td>\n",
       "      <td>1.000000</td>\n",
       "      <td>1.000000</td>\n",
       "      <td>1.000000</td>\n",
       "    </tr>\n",
       "  </tbody>\n",
       "</table>\n",
       "</div>"
      ],
      "text/plain": [
       "           row_num     study_num            y         yhat  lat_sn_count  \\\n",
       "count  5914.000000   5914.000000  5914.000000  5914.000000   5914.000000   \n",
       "mean   2956.500000   7248.516064     0.235374     0.153561      0.245773   \n",
       "std    1707.369077   4264.464809     0.424268     0.229188      0.087013   \n",
       "min       0.000000      8.000000     0.000000     0.000168      0.000000   \n",
       "25%    1478.250000   3486.500000     0.000000     0.000964      0.250000   \n",
       "50%    2956.500000   8385.000000     0.000000     0.002955      0.250000   \n",
       "75%    4434.750000  11077.750000     0.000000     0.279555      0.250000   \n",
       "max    5913.000000  13987.000000     1.000000     0.847084      1.000000   \n",
       "\n",
       "       view_type_sn_count     sn_count  study_num_scaled          LCC  \\\n",
       "count         5914.000000  5914.000000       5914.000000  5914.000000   \n",
       "mean             0.239601     0.403594          0.517957     0.262766   \n",
       "std              0.094996     0.105211          0.305062     0.440174   \n",
       "min              0.000000     0.000000          0.000000     0.000000   \n",
       "25%              0.250000     0.428571          0.248838     0.000000   \n",
       "50%              0.250000     0.428571          0.599256     0.000000   \n",
       "75%              0.250000     0.428571          0.791884     1.000000   \n",
       "max              1.000000     1.000000          1.000000     1.000000   \n",
       "\n",
       "              LMLO          RCC         RMLO            L            R  \\\n",
       "count  5914.000000  5914.000000  5914.000000  5914.000000  5914.000000   \n",
       "mean      0.214068     0.265641     0.257525     0.476835     0.523165   \n",
       "std       0.410209     0.441711     0.437308     0.499505     0.499505   \n",
       "min       0.000000     0.000000     0.000000     0.000000     0.000000   \n",
       "25%       0.000000     0.000000     0.000000     0.000000     0.000000   \n",
       "50%       0.000000     0.000000     0.000000     0.000000     1.000000   \n",
       "75%       0.000000     1.000000     1.000000     1.000000     1.000000   \n",
       "max       1.000000     1.000000     1.000000     1.000000     1.000000   \n",
       "\n",
       "                CC          MLO  \n",
       "count  5914.000000  5914.000000  \n",
       "mean      0.528407     0.471593  \n",
       "std       0.499235     0.499235  \n",
       "min       0.000000     0.000000  \n",
       "25%       0.000000     0.000000  \n",
       "50%       1.000000     0.000000  \n",
       "75%       1.000000     1.000000  \n",
       "max       1.000000     1.000000  "
      ]
     },
     "execution_count": 38,
     "metadata": {},
     "output_type": "execute_result"
    }
   ],
   "source": [
    "df_all_oh.describe()"
   ]
  },
  {
   "cell_type": "code",
   "execution_count": 39,
   "metadata": {},
   "outputs": [],
   "source": [
    "# saving data frame\n",
    "df_all_oh = df_all_oh.sort_values(by=\"row_num\")\n",
    "eda_file_out_2 = \"df_after_pp.csv\"\n",
    "df_all_oh.to_csv(eda_file_out_2, index=False)"
   ]
  },
  {
   "cell_type": "markdown",
   "metadata": {},
   "source": [
    "### Section 3: Feature Selection, Models, and Hyperparameter Tuning\n",
    "* For models I decided on Logistic Regression,  gradient boosting (Light GBM), and Random Forests. All three models are fast, well-established and offer explanability in their feature importances.\n",
    "* I decided not to try a Neural Net, model stacking/blending/ensemble due to the small amount of data. If it was a larger data set then I would try the NN and some ensembling. "
   ]
  },
  {
   "cell_type": "code",
   "execution_count": 40,
   "metadata": {},
   "outputs": [],
   "source": [
    "# check point, model can be rerun from here\n",
    "import pandas as pd\n",
    "import numpy as np\n",
    "import lightgbm as lgb\n",
    "from sklearn.metrics import accuracy_score, roc_auc_score\n",
    "from sklearn.ensemble import RandomForestClassifier\n",
    "from sklearn.datasets import make_classification\n",
    "from sklearn.model_selection import cross_val_score\n",
    "from sklearn.linear_model import LogisticRegression\n",
    "from sklearn.model_selection import GridSearchCV\n",
    "from sklearn.model_selection import KFold\n",
    "from sklearn.model_selection import train_test_split\n",
    "from sklearn.feature_selection import SelectFromModel\n",
    "pd.options.display.max_columns = None\n",
    "random_state = 42"
   ]
  },
  {
   "cell_type": "code",
   "execution_count": 41,
   "metadata": {},
   "outputs": [
    {
     "data": {
      "text/html": [
       "<div>\n",
       "<style scoped>\n",
       "    .dataframe tbody tr th:only-of-type {\n",
       "        vertical-align: middle;\n",
       "    }\n",
       "\n",
       "    .dataframe tbody tr th {\n",
       "        vertical-align: top;\n",
       "    }\n",
       "\n",
       "    .dataframe thead th {\n",
       "        text-align: right;\n",
       "    }\n",
       "</style>\n",
       "<table border=\"1\" class=\"dataframe\">\n",
       "  <thead>\n",
       "    <tr style=\"text-align: right;\">\n",
       "      <th></th>\n",
       "      <th>row_num</th>\n",
       "      <th>study_num</th>\n",
       "      <th>view</th>\n",
       "      <th>y</th>\n",
       "      <th>yhat</th>\n",
       "      <th>laterality</th>\n",
       "      <th>view_type</th>\n",
       "      <th>lat_sn_count</th>\n",
       "      <th>view_type_sn_count</th>\n",
       "      <th>sn_count</th>\n",
       "      <th>study_num_scaled</th>\n",
       "      <th>LCC</th>\n",
       "      <th>LMLO</th>\n",
       "      <th>RCC</th>\n",
       "      <th>RMLO</th>\n",
       "      <th>L</th>\n",
       "      <th>R</th>\n",
       "      <th>CC</th>\n",
       "      <th>MLO</th>\n",
       "    </tr>\n",
       "  </thead>\n",
       "  <tbody>\n",
       "    <tr>\n",
       "      <th>0</th>\n",
       "      <td>0</td>\n",
       "      <td>8</td>\n",
       "      <td>LCC</td>\n",
       "      <td>0</td>\n",
       "      <td>0.000857</td>\n",
       "      <td>L</td>\n",
       "      <td>CC</td>\n",
       "      <td>0.00</td>\n",
       "      <td>0.25</td>\n",
       "      <td>0.285714</td>\n",
       "      <td>0.000000</td>\n",
       "      <td>1</td>\n",
       "      <td>0</td>\n",
       "      <td>0</td>\n",
       "      <td>0</td>\n",
       "      <td>1</td>\n",
       "      <td>0</td>\n",
       "      <td>1</td>\n",
       "      <td>0</td>\n",
       "    </tr>\n",
       "    <tr>\n",
       "      <th>1</th>\n",
       "      <td>1</td>\n",
       "      <td>8</td>\n",
       "      <td>RMLO</td>\n",
       "      <td>1</td>\n",
       "      <td>0.542956</td>\n",
       "      <td>R</td>\n",
       "      <td>MLO</td>\n",
       "      <td>0.25</td>\n",
       "      <td>0.00</td>\n",
       "      <td>0.285714</td>\n",
       "      <td>0.000000</td>\n",
       "      <td>0</td>\n",
       "      <td>0</td>\n",
       "      <td>0</td>\n",
       "      <td>1</td>\n",
       "      <td>0</td>\n",
       "      <td>1</td>\n",
       "      <td>0</td>\n",
       "      <td>1</td>\n",
       "    </tr>\n",
       "    <tr>\n",
       "      <th>2</th>\n",
       "      <td>2</td>\n",
       "      <td>8</td>\n",
       "      <td>RCC</td>\n",
       "      <td>1</td>\n",
       "      <td>0.525933</td>\n",
       "      <td>R</td>\n",
       "      <td>CC</td>\n",
       "      <td>0.25</td>\n",
       "      <td>0.25</td>\n",
       "      <td>0.285714</td>\n",
       "      <td>0.000000</td>\n",
       "      <td>0</td>\n",
       "      <td>0</td>\n",
       "      <td>1</td>\n",
       "      <td>0</td>\n",
       "      <td>0</td>\n",
       "      <td>1</td>\n",
       "      <td>1</td>\n",
       "      <td>0</td>\n",
       "    </tr>\n",
       "    <tr>\n",
       "      <th>3</th>\n",
       "      <td>3</td>\n",
       "      <td>10</td>\n",
       "      <td>RMLO</td>\n",
       "      <td>1</td>\n",
       "      <td>0.354297</td>\n",
       "      <td>R</td>\n",
       "      <td>MLO</td>\n",
       "      <td>0.25</td>\n",
       "      <td>0.00</td>\n",
       "      <td>0.285714</td>\n",
       "      <td>0.000143</td>\n",
       "      <td>0</td>\n",
       "      <td>0</td>\n",
       "      <td>0</td>\n",
       "      <td>1</td>\n",
       "      <td>0</td>\n",
       "      <td>1</td>\n",
       "      <td>0</td>\n",
       "      <td>1</td>\n",
       "    </tr>\n",
       "    <tr>\n",
       "      <th>4</th>\n",
       "      <td>4</td>\n",
       "      <td>10</td>\n",
       "      <td>LCC</td>\n",
       "      <td>0</td>\n",
       "      <td>0.000446</td>\n",
       "      <td>L</td>\n",
       "      <td>CC</td>\n",
       "      <td>0.00</td>\n",
       "      <td>0.25</td>\n",
       "      <td>0.285714</td>\n",
       "      <td>0.000143</td>\n",
       "      <td>1</td>\n",
       "      <td>0</td>\n",
       "      <td>0</td>\n",
       "      <td>0</td>\n",
       "      <td>1</td>\n",
       "      <td>0</td>\n",
       "      <td>1</td>\n",
       "      <td>0</td>\n",
       "    </tr>\n",
       "  </tbody>\n",
       "</table>\n",
       "</div>"
      ],
      "text/plain": [
       "   row_num  study_num  view  y      yhat laterality view_type  lat_sn_count  \\\n",
       "0        0          8   LCC  0  0.000857          L        CC          0.00   \n",
       "1        1          8  RMLO  1  0.542956          R       MLO          0.25   \n",
       "2        2          8   RCC  1  0.525933          R        CC          0.25   \n",
       "3        3         10  RMLO  1  0.354297          R       MLO          0.25   \n",
       "4        4         10   LCC  0  0.000446          L        CC          0.00   \n",
       "\n",
       "   view_type_sn_count  sn_count  study_num_scaled  LCC  LMLO  RCC  RMLO  L  R  \\\n",
       "0                0.25  0.285714          0.000000    1     0    0     0  1  0   \n",
       "1                0.00  0.285714          0.000000    0     0    0     1  0  1   \n",
       "2                0.25  0.285714          0.000000    0     0    1     0  0  1   \n",
       "3                0.00  0.285714          0.000143    0     0    0     1  0  1   \n",
       "4                0.25  0.285714          0.000143    1     0    0     0  1  0   \n",
       "\n",
       "   CC  MLO  \n",
       "0   1    0  \n",
       "1   0    1  \n",
       "2   1    0  \n",
       "3   0    1  \n",
       "4   1    0  "
      ]
     },
     "execution_count": 41,
     "metadata": {},
     "output_type": "execute_result"
    }
   ],
   "source": [
    "# drop unnecessary columns, split into train and test\n",
    "df_all_in = pd.read_csv(\"df_after_pp.csv\")\n",
    "df_all_in.head()"
   ]
  },
  {
   "cell_type": "markdown",
   "metadata": {},
   "source": [
    "#### Train-Test Split and Cross Validation\n",
    "* Separate the data into train and test splits\n",
    "* Set up cross validation split and then use grid search of the hyperparameters to tune\n",
    "* I realize that hyperparameter search can be done better. Like random search is better than grid search and Bayesian approaches can be better than both. I've been using wandb.com for hyperparameter search in other projects and given more time would take a similar approach to this problem."
   ]
  },
  {
   "cell_type": "code",
   "execution_count": 42,
   "metadata": {},
   "outputs": [],
   "source": [
    "# split into train and test set\n",
    "df_temp = df_all_in.copy()\n",
    "\n",
    "# drop columns that have been one-hotted\n",
    "to_drop_columns = ['view', 'laterality', 'view_type', 'y', 'study_num']\n",
    "temp_y = df_temp.y.values\n",
    "df_temp = df_temp.drop(to_drop_columns,axis=1)\n",
    "X_train, X_test, y_train, y_test = train_test_split( df_temp, temp_y, test_size=0.2, random_state=random_state, stratify=temp_y)"
   ]
  },
  {
   "cell_type": "code",
   "execution_count": 43,
   "metadata": {},
   "outputs": [
    {
     "name": "stdout",
     "output_type": "stream",
     "text": [
      "(4731, 14) (1183, 14) (4731,) (1183,)\n"
     ]
    }
   ],
   "source": [
    "print(X_train.shape, X_test.shape, y_train.shape, y_test.shape)"
   ]
  },
  {
   "cell_type": "markdown",
   "metadata": {},
   "source": [
    "#### 3.1 Gradient Boosting with LightGBM"
   ]
  },
  {
   "cell_type": "code",
   "execution_count": 44,
   "metadata": {},
   "outputs": [
    {
     "name": "stdout",
     "output_type": "stream",
     "text": [
      "LGBMClassifier(max_depth=7, metric='auc', min_data_in_leaf=10,\n",
      "               num_iterations=20, objective='binary', seed=42)\n"
     ]
    },
    {
     "name": "stderr",
     "output_type": "stream",
     "text": [
      "C:\\Users\\james\\Anaconda3\\envs\\csc723\\lib\\site-packages\\lightgbm\\engine.py:148: UserWarning: Found `num_iterations` in params. Will use it instead of argument\n",
      "  warnings.warn(\"Found `{}` in params. Will use it instead of argument\".format(alias))\n"
     ]
    }
   ],
   "source": [
    "cv_split = KFold(n_splits=4, shuffle=True, random_state=random_state).split(X=X_train, y=y_train)\n",
    "\n",
    "param_grid = {\n",
    "    'max_depth': [3, 7],\n",
    "    #'bagging_fraction':[0.6, 0.8, 1.0],\n",
    "    #'feature_fraction':[0.6, 0.8, 1.0],\n",
    "    'num_iterations':[20, 50],\n",
    "    'learning_rate':[0.03, 0.1],\n",
    "    #'lambda_l1':[0.0, 0.2],\n",
    "    # 'lambda_l2':[0.0, 0.1],\n",
    "    'min_data_in_leaf':[10, 20]\n",
    "    }\n",
    "\n",
    "lgb_estimator = lgb.LGBMClassifier(boosting_type='gbdt',  objective='binary', metric='auc', seed=random_state)\n",
    "\n",
    "gs = GridSearchCV(estimator=lgb_estimator, param_grid=param_grid, cv=cv_split, n_jobs=-1)\n",
    "lgb_gs = gs.fit(X=X_train, y=y_train)\n",
    "lgb_model = lgb_gs.best_estimator_\n",
    "print(lgb_model)"
   ]
  },
  {
   "cell_type": "code",
   "execution_count": 45,
   "metadata": {},
   "outputs": [
    {
     "name": "stdout",
     "output_type": "stream",
     "text": [
      "Test Accuracy for LightGBM is 0.879966\n",
      "Train Accuracy for LightGBM is 0.902980\n",
      "Test AUC for LightGBM is 0.923916\n",
      "Train AUC for LightGBM is 0.949988\n"
     ]
    }
   ],
   "source": [
    "# seeing predictions\n",
    "pred_lgb_test = lgb_model.predict(X_test.values)\n",
    "pred_lgb_train = lgb_model.predict(X_train.values)\n",
    "\n",
    "lgb_test_acc = accuracy_score(y_test, pred_lgb_test)\n",
    "print('Test Accuracy for LightGBM is %f' % lgb_test_acc)\n",
    "\n",
    "lgb_train_acc = accuracy_score(y_train, pred_lgb_train)\n",
    "print('Train Accuracy for LightGBM is %f' % lgb_train_acc)\n",
    "\n",
    "auc_lgb_test = lgb_model.predict_proba(X_test.values)[:,1]\n",
    "auc_lgb_train = lgb_model.predict_proba(X_train.values)[:,1]\n",
    "\n",
    "lgb_test_auc = roc_auc_score(y_test, auc_lgb_test)\n",
    "print('Test AUC for LightGBM is %f' % lgb_test_auc)\n",
    "\n",
    "lgb_train_auc = roc_auc_score(y_train, auc_lgb_train)\n",
    "print('Train AUC for LightGBM is %f' % lgb_train_auc)"
   ]
  },
  {
   "cell_type": "code",
   "execution_count": 46,
   "metadata": {},
   "outputs": [
    {
     "data": {
      "text/html": [
       "<div>\n",
       "<style scoped>\n",
       "    .dataframe tbody tr th:only-of-type {\n",
       "        vertical-align: middle;\n",
       "    }\n",
       "\n",
       "    .dataframe tbody tr th {\n",
       "        vertical-align: top;\n",
       "    }\n",
       "\n",
       "    .dataframe thead th {\n",
       "        text-align: right;\n",
       "    }\n",
       "</style>\n",
       "<table border=\"1\" class=\"dataframe\">\n",
       "  <thead>\n",
       "    <tr style=\"text-align: right;\">\n",
       "      <th></th>\n",
       "      <th>importance</th>\n",
       "    </tr>\n",
       "  </thead>\n",
       "  <tbody>\n",
       "    <tr>\n",
       "      <th>row_num</th>\n",
       "      <td>204</td>\n",
       "    </tr>\n",
       "    <tr>\n",
       "      <th>yhat</th>\n",
       "      <td>155</td>\n",
       "    </tr>\n",
       "    <tr>\n",
       "      <th>study_num_scaled</th>\n",
       "      <td>110</td>\n",
       "    </tr>\n",
       "    <tr>\n",
       "      <th>sn_count</th>\n",
       "      <td>55</td>\n",
       "    </tr>\n",
       "    <tr>\n",
       "      <th>L</th>\n",
       "      <td>18</td>\n",
       "    </tr>\n",
       "    <tr>\n",
       "      <th>lat_sn_count</th>\n",
       "      <td>17</td>\n",
       "    </tr>\n",
       "    <tr>\n",
       "      <th>view_type_sn_count</th>\n",
       "      <td>14</td>\n",
       "    </tr>\n",
       "    <tr>\n",
       "      <th>LCC</th>\n",
       "      <td>10</td>\n",
       "    </tr>\n",
       "    <tr>\n",
       "      <th>R</th>\n",
       "      <td>7</td>\n",
       "    </tr>\n",
       "    <tr>\n",
       "      <th>RCC</th>\n",
       "      <td>6</td>\n",
       "    </tr>\n",
       "    <tr>\n",
       "      <th>LMLO</th>\n",
       "      <td>2</td>\n",
       "    </tr>\n",
       "    <tr>\n",
       "      <th>RMLO</th>\n",
       "      <td>2</td>\n",
       "    </tr>\n",
       "    <tr>\n",
       "      <th>CC</th>\n",
       "      <td>0</td>\n",
       "    </tr>\n",
       "    <tr>\n",
       "      <th>MLO</th>\n",
       "      <td>0</td>\n",
       "    </tr>\n",
       "  </tbody>\n",
       "</table>\n",
       "</div>"
      ],
      "text/plain": [
       "                    importance\n",
       "row_num                    204\n",
       "yhat                       155\n",
       "study_num_scaled           110\n",
       "sn_count                    55\n",
       "L                           18\n",
       "lat_sn_count                17\n",
       "view_type_sn_count          14\n",
       "LCC                         10\n",
       "R                            7\n",
       "RCC                          6\n",
       "LMLO                         2\n",
       "RMLO                         2\n",
       "CC                           0\n",
       "MLO                          0"
      ]
     },
     "execution_count": 46,
     "metadata": {},
     "output_type": "execute_result"
    }
   ],
   "source": [
    "lgb_feature_importances = pd.DataFrame(lgb_model.feature_importances_,\n",
    "                                    index=X_train.columns,\n",
    "                                    columns=['importance']).sort_values('importance',  ascending=False)\n",
    "lgb_feature_importances"
   ]
  },
  {
   "cell_type": "markdown",
   "metadata": {},
   "source": [
    "#### Feature selection\n",
    "* Simple example of feature selection to demonstrate I know to consider feature selection\n",
    "* However based on the high performance of row_num and study_num_scaled I'd want to consult on how the data was generated before doing feature selection"
   ]
  },
  {
   "cell_type": "code",
   "execution_count": 47,
   "metadata": {},
   "outputs": [
    {
     "name": "stdout",
     "output_type": "stream",
     "text": [
      "Shape of full data (4731, 14)\n",
      "Shape of selected data (4731, 4)\n"
     ]
    },
    {
     "name": "stderr",
     "output_type": "stream",
     "text": [
      "C:\\Users\\james\\Anaconda3\\envs\\csc723\\lib\\site-packages\\sklearn\\base.py:443: UserWarning: X has feature names, but SelectFromModel was fitted without feature names\n",
      "  warnings.warn(\n",
      "C:\\Users\\james\\Anaconda3\\envs\\csc723\\lib\\site-packages\\sklearn\\base.py:443: UserWarning: X has feature names, but SelectFromModel was fitted without feature names\n",
      "  warnings.warn(\n"
     ]
    }
   ],
   "source": [
    "# automated feature selection using SelectFromModel\n",
    "lgb_select_model = SelectFromModel(lgb_model, prefit=True)\n",
    "X_train_lgb_selected = lgb_select_model.transform(X_train)\n",
    "X_test_lgb_selected = lgb_select_model.transform(X_test)\n",
    "print(\"Shape of full data\",np.shape(X_train)  )\n",
    "print(\"Shape of selected data\",np.shape(X_train_lgb_selected)  )"
   ]
  },
  {
   "cell_type": "code",
   "execution_count": 48,
   "metadata": {},
   "outputs": [
    {
     "name": "stdout",
     "output_type": "stream",
     "text": [
      "LGBMClassifier(max_depth=7, metric='auc', min_data_in_leaf=10,\n",
      "               num_iterations=50, objective='binary', seed=42)\n"
     ]
    },
    {
     "name": "stderr",
     "output_type": "stream",
     "text": [
      "C:\\Users\\james\\Anaconda3\\envs\\csc723\\lib\\site-packages\\lightgbm\\engine.py:148: UserWarning: Found `num_iterations` in params. Will use it instead of argument\n",
      "  warnings.warn(\"Found `{}` in params. Will use it instead of argument\".format(alias))\n"
     ]
    }
   ],
   "source": [
    "# running hyperparameter tuning with selected features\n",
    "cv_split = KFold(n_splits=4, shuffle=True, random_state=random_state).split(X=X_train, y=y_train)\n",
    "\n",
    "param_grid = {\n",
    "    'max_depth': [3, 7],\n",
    "    #'bagging_fraction':[0.6, 0.8, 1.0],\n",
    "    #'feature_fraction':[0.6, 0.8, 1.0],\n",
    "    'num_iterations':[20, 50],\n",
    "    'learning_rate':[0.03, 0.1],\n",
    "    #'lambda_l1':[0.0, 0.2],\n",
    "    # 'lambda_l2':[0.0, 0.1],\n",
    "    'min_data_in_leaf':[10, 20]\n",
    "    }\n",
    "\n",
    "lgb_estimator_sf = lgb.LGBMClassifier(boosting_type='gbdt',  objective='binary', metric='auc', seed=random_state)\n",
    "\n",
    "gs_sf = GridSearchCV(estimator=lgb_estimator, param_grid=param_grid, cv=cv_split, n_jobs=-1)\n",
    "lgb_gs_sf = gs_sf.fit(X=X_train_lgb_selected, y=y_train)\n",
    "lgb_model_sf = lgb_gs_sf.best_estimator_\n",
    "print(lgb_model_sf)"
   ]
  },
  {
   "cell_type": "code",
   "execution_count": 49,
   "metadata": {},
   "outputs": [
    {
     "name": "stdout",
     "output_type": "stream",
     "text": [
      "Test Accuracy for LightGBM is 0.879966\n",
      "Train Accuracy for LightGBM is 0.908687\n",
      "Test AUC for LightGBM is 0.925555\n",
      "Train AUC for LightGBM is 0.964187\n"
     ]
    }
   ],
   "source": [
    "# accuracy and AUC scores\n",
    "pred_lgb_test_sf = lgb_model_sf.predict(X_test_lgb_selected)\n",
    "pred_lgb_train_sf = lgb_model_sf.predict(X_train_lgb_selected)\n",
    "\n",
    "lgb_test_acc_sf = accuracy_score(y_test, pred_lgb_test_sf)\n",
    "print('Test Accuracy for LightGBM is %f' % lgb_test_acc_sf)\n",
    "\n",
    "lgb_train_acc_sf = accuracy_score(y_train, pred_lgb_train_sf)\n",
    "print('Train Accuracy for LightGBM is %f' % lgb_train_acc_sf)\n",
    "\n",
    "auc_lgb_test_sf = lgb_model_sf.predict_proba(X_test_lgb_selected)[:,1]\n",
    "auc_lgb_train_sf = lgb_model_sf.predict_proba(X_train_lgb_selected)[:,1]\n",
    "\n",
    "lgb_test_auc_sf = roc_auc_score(y_test, auc_lgb_test_sf)\n",
    "print('Test AUC for LightGBM is %f' % lgb_test_auc_sf)\n",
    "\n",
    "lgb_train_auc_sf = roc_auc_score(y_train, auc_lgb_train_sf)\n",
    "print('Train AUC for LightGBM is %f' % lgb_train_auc_sf)"
   ]
  },
  {
   "cell_type": "code",
   "execution_count": 50,
   "metadata": {},
   "outputs": [
    {
     "data": {
      "text/html": [
       "<div>\n",
       "<style scoped>\n",
       "    .dataframe tbody tr th:only-of-type {\n",
       "        vertical-align: middle;\n",
       "    }\n",
       "\n",
       "    .dataframe tbody tr th {\n",
       "        vertical-align: top;\n",
       "    }\n",
       "\n",
       "    .dataframe thead th {\n",
       "        text-align: right;\n",
       "    }\n",
       "</style>\n",
       "<table border=\"1\" class=\"dataframe\">\n",
       "  <thead>\n",
       "    <tr style=\"text-align: right;\">\n",
       "      <th></th>\n",
       "      <th>importance</th>\n",
       "    </tr>\n",
       "  </thead>\n",
       "  <tbody>\n",
       "    <tr>\n",
       "      <th>row_num</th>\n",
       "      <td>574</td>\n",
       "    </tr>\n",
       "    <tr>\n",
       "      <th>yhat</th>\n",
       "      <td>477</td>\n",
       "    </tr>\n",
       "    <tr>\n",
       "      <th>study_num_scaled</th>\n",
       "      <td>268</td>\n",
       "    </tr>\n",
       "    <tr>\n",
       "      <th>sn_count</th>\n",
       "      <td>164</td>\n",
       "    </tr>\n",
       "  </tbody>\n",
       "</table>\n",
       "</div>"
      ],
      "text/plain": [
       "                  importance\n",
       "row_num                  574\n",
       "yhat                     477\n",
       "study_num_scaled         268\n",
       "sn_count                 164"
      ]
     },
     "execution_count": 50,
     "metadata": {},
     "output_type": "execute_result"
    }
   ],
   "source": [
    "lgb_feature_importances_sf = pd.DataFrame(lgb_model_sf.feature_importances_,\n",
    "                                    index=X_train.columns[lgb_select_model.get_support()],\n",
    "                                    columns=['importance']).sort_values('importance',  ascending=False)\n",
    "lgb_feature_importances_sf"
   ]
  },
  {
   "cell_type": "code",
   "execution_count": 51,
   "metadata": {},
   "outputs": [
    {
     "data": {
      "text/plain": [
       "<AxesSubplot:title={'center':'Feature importance'}, xlabel='Feature importance', ylabel='Features'>"
      ]
     },
     "execution_count": 51,
     "metadata": {},
     "output_type": "execute_result"
    },
    {
     "data": {
      "image/png": "[encoded data removed]",
      "text/plain": [
       "<Figure size 432x288 with 1 Axes>"
      ]
     },
     "metadata": {
      "needs_background": "light"
     },
     "output_type": "display_data"
    }
   ],
   "source": [
    "lgb.plot_importance(lgb_model)"
   ]
  },
  {
   "cell_type": "markdown",
   "metadata": {},
   "source": [
    "#### 3.2 Random Forest"
   ]
  },
  {
   "cell_type": "code",
   "execution_count": 52,
   "metadata": {},
   "outputs": [
    {
     "name": "stdout",
     "output_type": "stream",
     "text": [
      "RandomForestClassifier(max_depth=10, max_features=0.8, min_samples_leaf=10,\n",
      "                       n_estimators=50, n_jobs=-1, random_state=0)\n"
     ]
    }
   ],
   "source": [
    "# Random Forest Model\n",
    "cv_split = KFold(n_splits=4, shuffle=True, random_state=random_state).split(X=X_train, y=y_train)\n",
    "\n",
    "param_grid = {\n",
    "    'n_estimators': [10, 50],\n",
    "    'max_depth':[3, 10],\n",
    "    'max_features':[0.8, None],\n",
    "    'min_samples_leaf':[5, 10]\n",
    "    }\n",
    "\n",
    "rf_estimator = RandomForestClassifier( random_state=0, n_jobs=-1)\n",
    "\n",
    "gs = GridSearchCV(estimator=rf_estimator, param_grid=param_grid, cv=cv_split, n_jobs=-1)\n",
    "rf_gs = gs.fit(X=X_train, y=y_train)\n",
    "rf_model = rf_gs.best_estimator_\n",
    "print(rf_model)"
   ]
  },
  {
   "cell_type": "code",
   "execution_count": 53,
   "metadata": {},
   "outputs": [
    {
     "name": "stdout",
     "output_type": "stream",
     "text": [
      "Test Accuracy for Random Forest is 0.880811\n",
      "Train Accuracy for Random Forest is 0.905305\n",
      "Test AUC for Random Forest is 0.923433\n",
      "Train AUC for Random Forest is 0.962866\n"
     ]
    },
    {
     "name": "stderr",
     "output_type": "stream",
     "text": [
      "C:\\Users\\james\\Anaconda3\\envs\\csc723\\lib\\site-packages\\sklearn\\base.py:450: UserWarning: X does not have valid feature names, but RandomForestClassifier was fitted with feature names\n",
      "  warnings.warn(\n",
      "C:\\Users\\james\\Anaconda3\\envs\\csc723\\lib\\site-packages\\sklearn\\base.py:450: UserWarning: X does not have valid feature names, but RandomForestClassifier was fitted with feature names\n",
      "  warnings.warn(\n"
     ]
    }
   ],
   "source": [
    "# accuracy and AUC scores\n",
    "pred_rf_test = rf_model.predict(X_test.values)\n",
    "pred_rf_train = rf_model.predict(X_train.values)\n",
    "\n",
    "rf_test_acc = accuracy_score(y_test, pred_rf_test )\n",
    "print('Test Accuracy for Random Forest is %f' % rf_test_acc)\n",
    "\n",
    "rf_train_acc = accuracy_score(y_train, pred_rf_train)\n",
    "print('Train Accuracy for Random Forest is %f' % rf_train_acc)\n",
    "\n",
    "auc_rf_test = rf_model.predict_proba(X_test)[:,1]\n",
    "auc_rf_train = rf_model.predict_proba(X_train)[:,1]\n",
    "\n",
    "rf_test_auc = roc_auc_score(y_test, auc_rf_test)\n",
    "print('Test AUC for Random Forest is %f' % rf_test_auc )\n",
    "\n",
    "rf_train_auc = roc_auc_score(y_train, auc_rf_train)\n",
    "print('Train AUC for Random Forest is %f' % rf_train_auc)"
   ]
  },
  {
   "cell_type": "code",
   "execution_count": 54,
   "metadata": {},
   "outputs": [
    {
     "data": {
      "text/html": [
       "<div>\n",
       "<style scoped>\n",
       "    .dataframe tbody tr th:only-of-type {\n",
       "        vertical-align: middle;\n",
       "    }\n",
       "\n",
       "    .dataframe tbody tr th {\n",
       "        vertical-align: top;\n",
       "    }\n",
       "\n",
       "    .dataframe thead th {\n",
       "        text-align: right;\n",
       "    }\n",
       "</style>\n",
       "<table border=\"1\" class=\"dataframe\">\n",
       "  <thead>\n",
       "    <tr style=\"text-align: right;\">\n",
       "      <th></th>\n",
       "      <th>importance</th>\n",
       "    </tr>\n",
       "  </thead>\n",
       "  <tbody>\n",
       "    <tr>\n",
       "      <th>yhat</th>\n",
       "      <td>0.538904</td>\n",
       "    </tr>\n",
       "    <tr>\n",
       "      <th>row_num</th>\n",
       "      <td>0.213642</td>\n",
       "    </tr>\n",
       "    <tr>\n",
       "      <th>study_num_scaled</th>\n",
       "      <td>0.188826</td>\n",
       "    </tr>\n",
       "    <tr>\n",
       "      <th>sn_count</th>\n",
       "      <td>0.029868</td>\n",
       "    </tr>\n",
       "    <tr>\n",
       "      <th>L</th>\n",
       "      <td>0.004417</td>\n",
       "    </tr>\n",
       "    <tr>\n",
       "      <th>lat_sn_count</th>\n",
       "      <td>0.004293</td>\n",
       "    </tr>\n",
       "    <tr>\n",
       "      <th>view_type_sn_count</th>\n",
       "      <td>0.004277</td>\n",
       "    </tr>\n",
       "    <tr>\n",
       "      <th>R</th>\n",
       "      <td>0.003699</td>\n",
       "    </tr>\n",
       "    <tr>\n",
       "      <th>RCC</th>\n",
       "      <td>0.003153</td>\n",
       "    </tr>\n",
       "    <tr>\n",
       "      <th>LCC</th>\n",
       "      <td>0.002944</td>\n",
       "    </tr>\n",
       "    <tr>\n",
       "      <th>LMLO</th>\n",
       "      <td>0.001559</td>\n",
       "    </tr>\n",
       "    <tr>\n",
       "      <th>RMLO</th>\n",
       "      <td>0.001498</td>\n",
       "    </tr>\n",
       "    <tr>\n",
       "      <th>MLO</th>\n",
       "      <td>0.001487</td>\n",
       "    </tr>\n",
       "    <tr>\n",
       "      <th>CC</th>\n",
       "      <td>0.001433</td>\n",
       "    </tr>\n",
       "  </tbody>\n",
       "</table>\n",
       "</div>"
      ],
      "text/plain": [
       "                    importance\n",
       "yhat                  0.538904\n",
       "row_num               0.213642\n",
       "study_num_scaled      0.188826\n",
       "sn_count              0.029868\n",
       "L                     0.004417\n",
       "lat_sn_count          0.004293\n",
       "view_type_sn_count    0.004277\n",
       "R                     0.003699\n",
       "RCC                   0.003153\n",
       "LCC                   0.002944\n",
       "LMLO                  0.001559\n",
       "RMLO                  0.001498\n",
       "MLO                   0.001487\n",
       "CC                    0.001433"
      ]
     },
     "execution_count": 54,
     "metadata": {},
     "output_type": "execute_result"
    }
   ],
   "source": [
    "# Importance of various features in Random Forest Model\n",
    "rf_feature_importances = pd.DataFrame(rf_model.feature_importances_,\n",
    "                                   index = X_train.columns,\n",
    "                                    columns=['importance']).sort_values('importance',  ascending=False)\n",
    "rf_feature_importances"
   ]
  },
  {
   "cell_type": "markdown",
   "metadata": {},
   "source": [
    "#### 3.3 Logistic Regression"
   ]
  },
  {
   "cell_type": "code",
   "execution_count": 55,
   "metadata": {},
   "outputs": [
    {
     "name": "stdout",
     "output_type": "stream",
     "text": [
      "LogisticRegression(C=0.3, n_jobs=-1, random_state=0)\n"
     ]
    }
   ],
   "source": [
    "# Logistic Regression Model\n",
    "cv_split = KFold(n_splits=4, shuffle=True, random_state=42).split(X=X_train, y=y_train)\n",
    "\n",
    "param_grid = {\n",
    "    'C':[0.1, 0.3, 1.]\n",
    "    }\n",
    "\n",
    "lr_estimator = LogisticRegression(n_jobs=-1, random_state=0)\n",
    "\n",
    "gs = GridSearchCV(estimator=lr_estimator, param_grid=param_grid, cv=cv_split, n_jobs=-1)\n",
    "lr_gs = gs.fit(X=X_train, y=y_train)\n",
    "lr_model = lr_gs.best_estimator_\n",
    "print(lr_model)"
   ]
  },
  {
   "cell_type": "code",
   "execution_count": 56,
   "metadata": {},
   "outputs": [
    {
     "name": "stdout",
     "output_type": "stream",
     "text": [
      "Test Accuracy for Logistic Regression is 0.840237\n",
      "Train Accuracy for Logistic Regression is 0.850560\n",
      "Test AUC for Logistic Regression is 0.845622\n",
      "Train AUC for Logistic Regression is 0.870239\n"
     ]
    },
    {
     "name": "stderr",
     "output_type": "stream",
     "text": [
      "C:\\Users\\james\\Anaconda3\\envs\\csc723\\lib\\site-packages\\sklearn\\base.py:450: UserWarning: X does not have valid feature names, but LogisticRegression was fitted with feature names\n",
      "  warnings.warn(\n",
      "C:\\Users\\james\\Anaconda3\\envs\\csc723\\lib\\site-packages\\sklearn\\base.py:450: UserWarning: X does not have valid feature names, but LogisticRegression was fitted with feature names\n",
      "  warnings.warn(\n"
     ]
    }
   ],
   "source": [
    "# accuracy and AUC scores\n",
    "pred_lr_test = lr_model.predict(X_test.values)\n",
    "pred_lr_train = lr_model.predict(X_train.values)\n",
    "\n",
    "lr_test_acc = accuracy_score(y_test, pred_lr_test )\n",
    "print('Test Accuracy for Logistic Regression is %f' % lr_test_acc)\n",
    "\n",
    "lr_train_acc = accuracy_score(y_train, pred_lr_train)\n",
    "print('Train Accuracy for Logistic Regression is %f' % lr_train_acc)\n",
    "\n",
    "auc_lr_test = lr_model.predict_proba(X_test)[:,1]\n",
    "auc_lr_train = lr_model.predict_proba(X_train)[:,1]\n",
    "\n",
    "lr_test_auc = roc_auc_score(y_test, auc_lr_test)\n",
    "print('Test AUC for Logistic Regression is %f' % lr_test_auc )\n",
    "\n",
    "lr_train_auc = roc_auc_score(y_train, auc_lr_train)\n",
    "print('Train AUC for Logistic Regression is %f' % lr_train_auc)"
   ]
  },
  {
   "cell_type": "markdown",
   "metadata": {},
   "source": [
    "#### Section 4: Ensembles\n",
    "* NA"
   ]
  },
  {
   "cell_type": "markdown",
   "metadata": {},
   "source": [
    "#### Section 5: Results and Conclusion\n",
    "* Light GBM AUC (Test -- Train): 0.92 -- 0.96\n",
    "* Random Forest AUC (Test -- Train): 0.92 -- 0.97\n",
    "* Logistic Regression AUC (Test -- Train): 0.86 -- 0.86\n",
    "* Confusion Matricies and AUC plots are presented using the Light GBM model"
   ]
  },
  {
   "cell_type": "code",
   "execution_count": 57,
   "metadata": {},
   "outputs": [
    {
     "name": "stdout",
     "output_type": "stream",
     "text": [
      "LightGBM Model Results\n",
      "---\n",
      "Test Confusion Matrix\n",
      "[[872  33]\n",
      " [109 169]]\n",
      "Test Classification Report\n",
      "              precision    recall  f1-score   support\n",
      "\n",
      "           0      0.889     0.964     0.925       905\n",
      "           1      0.837     0.608     0.704       278\n",
      "\n",
      "    accuracy                          0.880      1183\n",
      "   macro avg      0.863     0.786     0.814      1183\n",
      "weighted avg      0.877     0.880     0.873      1183\n",
      "\n"
     ]
    }
   ],
   "source": [
    "from sklearn import metrics\n",
    "from sklearn.metrics import roc_auc_score\n",
    "\n",
    "print(\"LightGBM Model Results\")\n",
    "print(\"---\")\n",
    "print(\"Test Confusion Matrix\")\n",
    "print(metrics.confusion_matrix(y_test, pred_lgb_test))\n",
    "print(\"Test Classification Report\")\n",
    "print(metrics.classification_report(y_test, pred_lgb_test, digits=3))"
   ]
  },
  {
   "cell_type": "code",
   "execution_count": 58,
   "metadata": {},
   "outputs": [],
   "source": [
    "from sklearn.metrics import roc_curve, auc\n",
    "import numpy as np\n",
    "import matplotlib.pyplot as plt"
   ]
  },
  {
   "cell_type": "code",
   "execution_count": 59,
   "metadata": {},
   "outputs": [
    {
     "data": {
      "image/png": "[encoded data removed]",
      "text/plain": [
       "<Figure size 432x288 with 1 Axes>"
      ]
     },
     "metadata": {
      "needs_background": "light"
     },
     "output_type": "display_data"
    }
   ],
   "source": [
    "# ROC score for LGB Model \n",
    "fpr, tpr, _ = roc_curve(y_test, lgb_model.predict_proba(X_test.values)[:,1])\n",
    "roc_auc = auc(fpr, tpr)\n",
    "\n",
    "plt.figure()\n",
    "lw = 2\n",
    "plt.plot(\n",
    "    fpr,\n",
    "    tpr,\n",
    "    color=\"darkorange\",\n",
    "    lw=lw,\n",
    "    label=\"ROC curve (area = %0.2f)\" % roc_auc,\n",
    ")\n",
    "plt.plot([0, 1], [0, 1], color=\"navy\", lw=lw, linestyle=\"--\")\n",
    "plt.xlim([0.0, 1.0])\n",
    "plt.ylim([0.0, 1.05])\n",
    "plt.xlabel(\"False Positive Rate\")\n",
    "plt.ylabel(\"True Positive Rate\")\n",
    "plt.title(\"Receiver operating characteristic All\")\n",
    "plt.legend(loc=\"lower right\")\n",
    "plt.show()"
   ]
  },
  {
   "cell_type": "code",
   "execution_count": 60,
   "metadata": {},
   "outputs": [
    {
     "data": {
      "image/png": "[encoded data removed]",
      "text/plain": [
       "<Figure size 432x288 with 1 Axes>"
      ]
     },
     "metadata": {
      "needs_background": "light"
     },
     "output_type": "display_data"
    },
    {
     "data": {
      "image/png": "[encoded data removed]",
      "text/plain": [
       "<Figure size 432x288 with 1 Axes>"
      ]
     },
     "metadata": {
      "needs_background": "light"
     },
     "output_type": "display_data"
    }
   ],
   "source": [
    "# ROC score for LGB Model by lateral\n",
    "lgb_predict_proba_true = lgb_model.predict_proba(X_test.values)[:,1]\n",
    "X_test_R = lgb_predict_proba_true[X_test[\"R\"] == 1]\n",
    "y_test_R = y_test[X_test[\"R\"] == 1]\n",
    "X_test_L = lgb_predict_proba_true[X_test[\"L\"] == 1]\n",
    "y_test_L = y_test[X_test[\"L\"] == 1]\n",
    "\n",
    "fpr_R, tpr_R, _ = roc_curve(y_test_R, X_test_R)\n",
    "roc_auc_R = auc(fpr_R, tpr_R)\n",
    "\n",
    "fpr_L, tpr_L, _ = roc_curve(y_test_L, X_test_L)\n",
    "roc_auc_L = auc(fpr_L, tpr_L)\n",
    "\n",
    "plt.figure()\n",
    "lw = 2\n",
    "plt.plot(\n",
    "    fpr_R,\n",
    "    tpr_R,\n",
    "    color=\"darkorange\",\n",
    "    lw=lw,\n",
    "    label=\"ROC curve (area = %0.2f)\" % roc_auc_R,\n",
    ")\n",
    "plt.plot([0, 1], [0, 1], color=\"navy\", lw=lw, linestyle=\"--\")\n",
    "plt.xlim([0.0, 1.0])\n",
    "plt.ylim([0.0, 1.05])\n",
    "plt.xlabel(\"False Positive Rate\")\n",
    "plt.ylabel(\"True Positive Rate\")\n",
    "plt.title(\"Receiver operating characteristic -- Laterality R\")\n",
    "plt.legend(loc=\"lower right\")\n",
    "\n",
    "plt.figure()\n",
    "lw = 2\n",
    "plt.plot(\n",
    "    fpr_L,\n",
    "    tpr_L,\n",
    "    color=\"darkorange\",\n",
    "    lw=lw,\n",
    "    label=\"ROC curve (area = %0.2f)\" % roc_auc_L,\n",
    ")\n",
    "plt.plot([0, 1], [0, 1], color=\"navy\", lw=lw, linestyle=\"--\")\n",
    "plt.xlim([0.0, 1.0])\n",
    "plt.ylim([0.0, 1.05])\n",
    "plt.xlabel(\"False Positive Rate\")\n",
    "plt.ylabel(\"True Positive Rate\")\n",
    "plt.title(\"Receiver operating characteristic -- Laterality L\")\n",
    "plt.legend(loc=\"lower right\")\n",
    "plt.show()"
   ]
  },
  {
   "cell_type": "markdown",
   "metadata": {},
   "source": [
    "##### Conclusion\n",
    "\n",
    "I am hesitant to draw a conclusion since I have major questions with the features and how the data was collected. I am concerned about why row number and study_num_scaled would have such importance. After research and deciding how to address those features, I would like to rerun the analysis using what we would expect to be the features and come up with a proper conclusion. I would also take the opportunity at that time to improve hyperparameter tuning and feature selection parts."
   ]
  }
 ],
 "metadata": {
  "kernelspec": {
   "display_name": "csc723",
   "language": "python",
   "name": "csc723"
  },
  "language_info": {
   "codemirror_mode": {
    "name": "ipython",
    "version": 3
   },
   "file_extension": ".py",
   "mimetype": "text/x-python",
   "name": "python",
   "nbconvert_exporter": "python",
   "pygments_lexer": "ipython3",
   "version": "3.8.12"
  }
 },
 "nbformat": 4,
 "nbformat_minor": 4
}
